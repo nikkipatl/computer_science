{
 "cells": [
  {
   "cell_type": "markdown",
   "id": "ec6f641b",
   "metadata": {},
   "source": [
    "Assume s is a string of lower case characters.\n",
    "\n",
    "Write a program that counts up the number of vowels contained in the string s. Valid vowels are: 'a', 'e', 'i', 'o', and 'u'. For example, if s = 'azcbobobegghakl', your program should print:\n",
    "\n",
    "Number of vowels: 5"
   ]
  },
  {
   "cell_type": "code",
   "execution_count": 1,
   "id": "6a7c8d37",
   "metadata": {},
   "outputs": [
    {
     "name": "stdout",
     "output_type": "stream",
     "text": [
      "5\n"
     ]
    }
   ],
   "source": [
    "s = 'azcbobobegghakl'\n",
    "counter=0\n",
    "vowels= ['a','e','i','o','u']\n",
    "for i in s:\n",
    "    if i in vowels:\n",
    "        counter+=1\n",
    "print(counter)\n",
    "        "
   ]
  },
  {
   "cell_type": "markdown",
   "id": "39637127",
   "metadata": {},
   "source": [
    "Assume s is a string of lower case characters.\n",
    "\n",
    "Write a program that prints the number of times the string 'bob' occurs in s. For example, if s = 'azcbobobegghakl', then your program should print\n",
    "\n",
    "Number of times bob occurs is: 2"
   ]
  },
  {
   "cell_type": "code",
   "execution_count": 55,
   "id": "cfd78921",
   "metadata": {},
   "outputs": [
    {
     "name": "stdout",
     "output_type": "stream",
     "text": [
      "4\n",
      "Number of times bob occurs is:  0\n"
     ]
    }
   ],
   "source": [
    "counter=0\n",
    "for i,j in enumerate(s):\n",
    "    if j=='b':\n",
    "        string = s[i:i+3]\n",
    "        if string=='bob':\n",
    "            counter+=1\n",
    "    else:\n",
    "        pass\n",
    "print(\"Number of times bob occurs is: \", counter)"
   ]
  },
  {
   "cell_type": "code",
   "execution_count": 102,
   "id": "88ddc47d",
   "metadata": {},
   "outputs": [],
   "source": [
    "s = 'azcbobobegghakl'"
   ]
  },
  {
   "cell_type": "code",
   "execution_count": 136,
   "id": "e95bf6be",
   "metadata": {},
   "outputs": [
    {
     "name": "stdout",
     "output_type": "stream",
     "text": [
      "0 a z\n"
     ]
    }
   ],
   "source": [
    "ziped = zip(s[i], s[i+1])\n",
    "for n,p in enumerate(ziped):\n",
    "    print(n,p[0],p[1])"
   ]
  },
  {
   "cell_type": "markdown",
   "id": "3d2b96da",
   "metadata": {},
   "source": [
    "Assume s is a string of lower case characters.\n",
    "\n",
    "Write a program that prints the longest substring of s in which the letters occur in alphabetical order. For example, if s = 'azcbobobegghakl', then your program should print\n",
    "\n",
    "Longest substring in alphabetical order is: beggh\n",
    "\n",
    "In the case of ties, print the first substring. For example, if s = 'abcbcd', then your program should print\n",
    "\n",
    "Longest substring in alphabetical order is: abc"
   ]
  },
  {
   "cell_type": "code",
   "execution_count": 10,
   "id": "3f81f801",
   "metadata": {},
   "outputs": [
    {
     "name": "stdout",
     "output_type": "stream",
     "text": [
      "{'c', 'bc', 'abc', 'abcc', 'cc', 'ab', 'bcc'}\n",
      "abcc\n"
     ]
    }
   ],
   "source": [
    "li_longest = set()\n",
    "# s = 'azcbobobegghakl'\n",
    "s= 'abcbcd'\n",
    "# bezoogghk\n",
    "#['az', 'boz', 'boz', 'bezoogghk', 'egzoohk', 'ghzook', 'akzoo']\n",
    "#['az', 'bo', 'bo', 'beoogghk', 'egoohk', 'ghook', 'akoo'] +1+1\n",
    "\n",
    "for n, j in enumerate(s):\n",
    "    longest=''\n",
    "    longest+=j\n",
    "    counter = 0\n",
    "    c = s.find(j,n)+1\n",
    "    for q in s[c:-1]:\n",
    "        if longest[-1]<=q:\n",
    "            longest+=q\n",
    "        li_longest.add(longest)\n",
    "\n",
    "# lens = []\n",
    "# for i in list(li_longest):\n",
    "#     lens+=(len(i), i)\n",
    "\n",
    "# print(lens)\n",
    "print(li_longest)\n",
    "print(sorted(li_longest, key=len)[-1]) # check this, want to keep first one alpabetically if tie"
   ]
  },
  {
   "cell_type": "code",
   "execution_count": 1,
   "id": "1f4a2892",
   "metadata": {
    "collapsed": true,
    "jupyter": {
     "outputs_hidden": true
    },
    "tags": []
   },
   "outputs": [
    {
     "ename": "NameError",
     "evalue": "name 's' is not defined",
     "output_type": "error",
     "traceback": [
      "\u001b[0;31m---------------------------------------------------------------------------\u001b[0m",
      "\u001b[0;31mNameError\u001b[0m                                 Traceback (most recent call last)",
      "\u001b[0;32m<ipython-input-1-81d649a85a68>\u001b[0m in \u001b[0;36m<module>\u001b[0;34m\u001b[0m\n\u001b[1;32m     12\u001b[0m \u001b[0;34m\u001b[0m\u001b[0m\n\u001b[1;32m     13\u001b[0m \u001b[0mli_longest\u001b[0m \u001b[0;34m=\u001b[0m \u001b[0mlist\u001b[0m\u001b[0;34m(\u001b[0m\u001b[0;34m)\u001b[0m\u001b[0;34m\u001b[0m\u001b[0;34m\u001b[0m\u001b[0m\n\u001b[0;32m---> 14\u001b[0;31m \u001b[0;32mfor\u001b[0m \u001b[0mn\u001b[0m\u001b[0;34m,\u001b[0m \u001b[0mj\u001b[0m \u001b[0;32min\u001b[0m \u001b[0menumerate\u001b[0m\u001b[0;34m(\u001b[0m\u001b[0ms\u001b[0m\u001b[0;34m)\u001b[0m\u001b[0;34m:\u001b[0m\u001b[0;34m\u001b[0m\u001b[0;34m\u001b[0m\u001b[0m\n\u001b[0m\u001b[1;32m     15\u001b[0m     \u001b[0mlongest\u001b[0m\u001b[0;34m=\u001b[0m\u001b[0;34m''\u001b[0m\u001b[0;34m\u001b[0m\u001b[0;34m\u001b[0m\u001b[0m\n\u001b[1;32m     16\u001b[0m \u001b[0;34m\u001b[0m\u001b[0m\n",
      "\u001b[0;31mNameError\u001b[0m: name 's' is not defined"
     ]
    }
   ],
   "source": [
    "# li_longest = set()\n",
    "# s = 'azcbobobegghakl'\n",
    "# s='lmfuosyghseznaksnoux'\n",
    "# s='cnenychyceu'\n",
    "# s='abcdefghijklmnopqrstuvwxyz'\n",
    "# s='zyxwvutsrqponmlkjihgfedcba'\n",
    "# s='yjwruqfq'\n",
    "# s= 'abcbcd'\n",
    "# bezoogghk\n",
    "#['az', 'boz', 'boz', 'bezoogghk', 'egzoohk', 'ghzook', 'akzoo']\n",
    "#['az', 'bo', 'bo', 'beoogghk', 'egoohk', 'ghook', 'akoo'] +1+1\n",
    "\n",
    "li_longest = list()\n",
    "for n, j in enumerate(s):\n",
    "    longest=''\n",
    "\n",
    "    longest+=j\n",
    "\n",
    "    c = s.find(j,n)+1\n",
    "\n",
    "    for m, q in enumerate(s[c:]):\n",
    "\n",
    "        if longest[-1]<=q:\n",
    "            longest+=q\n",
    "\n",
    "            li_longest.append(longest)\n",
    "        else:\n",
    "            break\n",
    "\n",
    "# ll = list(li_longest)\n",
    "# ll.sort()\n",
    "# print(li_longest)\n",
    "\n",
    "# li_longest=list(set(li_longest))\n",
    "# print(li_longest)\n",
    "\n",
    "max_=0\n",
    "for i in li_longest:\n",
    "    m = len(i)\n",
    "    if max_<m:\n",
    "        max_=m\n",
    "\n",
    "new_list=[]\n",
    "\n",
    "if max_==0:\n",
    "        new_list.append(s[0])\n",
    "else:\n",
    "    \n",
    "    for pp in [(i, len(i) )for i in li_longest]:\n",
    "    #     print(pp)\n",
    "        if pp[1]==max_:\n",
    "            new_list.append(pp[0])\n",
    "\n",
    "# # new_list.sort()\n",
    "# print(new_list)\n",
    "       \n",
    "# # ll.sort() # sorts normally by alphabetical order\n",
    "# # ll.sort(key=len, reverse=False) # sorts by descending length\n",
    "print(\"Longest substring in alphabetical order is:\", new_list[0])"
   ]
  },
  {
   "cell_type": "code",
   "execution_count": 4,
   "id": "80d5004e",
   "metadata": {
    "collapsed": true,
    "jupyter": {
     "outputs_hidden": true
    },
    "tags": []
   },
   "outputs": [
    {
     "name": "stdout",
     "output_type": "stream",
     "text": [
      "first: a\n",
      "positiion for next char: 1\n",
      "a b\n",
      "longest last: a\n",
      "second: ab\n",
      "a c\n",
      "longest last: b\n",
      "second: abc\n",
      "a b\n",
      "longest last: c\n",
      "first: b\n",
      "positiion for next char: 2\n",
      "b c\n",
      "longest last: b\n",
      "second: bc\n",
      "b b\n",
      "longest last: c\n",
      "first: c\n",
      "positiion for next char: 3\n",
      "c b\n",
      "longest last: c\n",
      "first: b\n",
      "positiion for next char: 4\n",
      "b c\n",
      "longest last: b\n",
      "second: bc\n",
      "b d\n",
      "longest last: c\n",
      "second: bcd\n",
      "first: c\n",
      "positiion for next char: 5\n",
      "c d\n",
      "longest last: c\n",
      "second: cd\n",
      "first: d\n",
      "positiion for next char: 6\n",
      "{'cd', 'bcd', 'bc', 'abc', 'ab'}\n"
     ]
    }
   ],
   "source": [
    "li_longest = set()\n",
    "# s = 'azcbobobegghakl'\n",
    "s= 'abcbcd'\n",
    "# bezoogghk\n",
    "#['az', 'boz', 'boz', 'bezoogghk', 'egzoohk', 'ghzook', 'akzoo']\n",
    "#['az', 'bo', 'bo', 'beoogghk', 'egoohk', 'ghook', 'akoo'] +1+1\n",
    "\n",
    "for n, j in enumerate(s):\n",
    "    longest=''\n",
    "    print('first:',j)\n",
    "    longest+=j\n",
    "#     print('longest f:',longest)\n",
    "    c = s.find(j,n)+1\n",
    "    print('positiion for next char:', c)\n",
    "    for m, q in enumerate(s[c:]):\n",
    "        print(j, q)\n",
    "        print('longest last:', longest[-1])\n",
    "#         counter=0\n",
    "#         if counter==m:\n",
    "        if longest[-1]<=q: # this skips d to c, need a while loop\n",
    "            longest+=q\n",
    "            print('second:',longest)\n",
    "            li_longest.add(longest)\n",
    "            counter+=1\n",
    "        else:\n",
    "            break\n",
    "print(li_longest)\n",
    "# li_longest_set = set(li_longest)\n",
    "# for i in\n",
    "# print(list(li_longest))\n",
    "# lens = []\n",
    "# for i in list(li_longest):\n",
    "#     lens+=(len(i), i)\n",
    "\n",
    "# print(lens)"
   ]
  },
  {
   "cell_type": "code",
   "execution_count": 9,
   "id": "fc25f4b7",
   "metadata": {},
   "outputs": [
    {
     "name": "stdout",
     "output_type": "stream",
     "text": [
      "('cd', 2)\n",
      "('bcd', 3)\n",
      "('bc', 2)\n",
      "('abc', 3)\n",
      "('ab', 2)\n"
     ]
    },
    {
     "data": {
      "text/plain": [
       "'bcd'"
      ]
     },
     "execution_count": 9,
     "metadata": {},
     "output_type": "execute_result"
    }
   ],
   "source": [
    "list(li_longest)\n",
    "for pp in [(i, len(i) )for i in list(li_longest)]:\n",
    "    print(pp)\n",
    "list(li_longest)[1]"
   ]
  },
  {
   "cell_type": "code",
   "execution_count": null,
   "id": "67e77ba6",
   "metadata": {},
   "outputs": [],
   "source": []
  },
  {
   "cell_type": "code",
   "execution_count": 84,
   "id": "0daab272",
   "metadata": {
    "collapsed": true,
    "jupyter": {
     "outputs_hidden": true
    },
    "tags": []
   },
   "outputs": [
    {
     "name": "stdout",
     "output_type": "stream",
     "text": [
      "first: a\n",
      "c: 1\n",
      "a z\n",
      "second: az\n",
      "a c\n",
      "a b\n",
      "a o\n",
      "a b\n",
      "a o\n",
      "a b\n",
      "a e\n",
      "a g\n",
      "a g\n",
      "a h\n",
      "a a\n",
      "a k\n",
      "first: z\n",
      "c: 2\n",
      "z c\n",
      "z b\n",
      "z o\n",
      "z b\n",
      "z o\n",
      "z b\n",
      "z e\n",
      "z g\n",
      "z g\n",
      "z h\n",
      "z a\n",
      "z k\n",
      "first: c\n",
      "c: 3\n",
      "c b\n",
      "c o\n",
      "second: co\n",
      "c b\n",
      "c o\n",
      "c b\n",
      "c e\n",
      "c g\n",
      "c g\n",
      "c h\n",
      "c a\n",
      "c k\n",
      "first: b\n",
      "c: 4\n",
      "b o\n",
      "second: bo\n",
      "b b\n",
      "b o\n",
      "b b\n",
      "b e\n",
      "b g\n",
      "b g\n",
      "b h\n",
      "b a\n",
      "b k\n",
      "first: o\n",
      "c: 5\n",
      "o b\n",
      "o o\n",
      "o b\n",
      "o e\n",
      "o g\n",
      "o g\n",
      "o h\n",
      "o a\n",
      "o k\n",
      "first: b\n",
      "c: 6\n",
      "b o\n",
      "second: bo\n",
      "b b\n",
      "b e\n",
      "b g\n",
      "b g\n",
      "b h\n",
      "b a\n",
      "b k\n",
      "first: o\n",
      "c: 7\n",
      "o b\n",
      "o e\n",
      "o g\n",
      "o g\n",
      "o h\n",
      "o a\n",
      "o k\n",
      "first: b\n",
      "c: 8\n",
      "b e\n",
      "second: be\n",
      "b g\n",
      "second: beg\n",
      "b g\n",
      "b h\n",
      "second: begh\n",
      "b a\n",
      "b k\n",
      "second: beghk\n",
      "first: e\n",
      "c: 9\n",
      "e g\n",
      "second: eg\n",
      "e g\n",
      "e h\n",
      "second: egh\n",
      "e a\n",
      "e k\n",
      "second: eghk\n",
      "first: g\n",
      "c: 10\n",
      "g g\n",
      "g h\n",
      "second: gh\n",
      "g a\n",
      "g k\n",
      "second: ghk\n",
      "first: g\n",
      "c: 11\n",
      "g h\n",
      "second: gh\n",
      "g a\n",
      "g k\n",
      "second: ghk\n",
      "first: h\n",
      "c: 12\n",
      "h a\n",
      "h k\n",
      "second: hk\n",
      "first: a\n",
      "c: 13\n",
      "a k\n",
      "second: ak\n",
      "first: k\n",
      "c: 14\n",
      "first: l\n",
      "c: 15\n",
      "{'az', 'begh', 'beghk', 'gh', 'h', 'ak', 'co', 'bo', 'z', 'ghk', 'eg', 'eghk', 'egh', 'g', 'o', 'be', 'hk', 'c', 'beg'}\n"
     ]
    }
   ],
   "source": [
    "li_longest = []\n",
    "s = 'azcbobobegghakl'\n",
    "# bezoogghk\n",
    "#['az', 'boz', 'boz', 'bezoogghk', 'egzoohk', 'ghzook', 'akzoo']\n",
    "#['az', 'bo', 'bo', 'beoogghk', 'egoohk', 'ghook', 'akoo'] +1+1\n",
    "\n",
    "for n, j in enumerate(s):\n",
    "    longest=''\n",
    "#     print('first:',j)\n",
    "    longest+=j\n",
    "    counter = 0\n",
    "    print('first:',longest)\n",
    "    c = s.find(j,n)+1\n",
    "    print('c:', c)\n",
    "    for q in s[c:-1]:\n",
    "        print(j, q)\n",
    "        if longest[-1]<q:\n",
    "            longest+=q\n",
    "            print('second:',longest)\n",
    "#     for m, i in enumerate(s[n+1:-1]):\n",
    "#         print('second:', n+1)\n",
    "#         longest = ''\n",
    "#         if j<i and m==0:\n",
    "# #             print(j, i)\n",
    "#             longest+=j\n",
    "#             longest+=i\n",
    "#             print(longest, i)\n",
    "# #         elif j<i:\n",
    "# #             longest+=i\n",
    "# #             print(longest, i)\n",
    "#             print('mmmm::',s[m], s[m+1])\n",
    "# #             if i<s[m+1]:\n",
    "# #                 print('third:', i)\n",
    "# #                 longest+=i\n",
    "# #                 print(longest)\n",
    "# #             for o, k in enumerate(s[m+1:m+2]):\n",
    "# #                 print('third:', k)\n",
    "# #                 if i<k:\n",
    "#                     longest+=k\n",
    "#                     print(longest)\n",
    "#                     longest+=i\n",
    "#         elif j<i:\n",
    "#             longest+=i\n",
    "#         else:\n",
    "#             break\n",
    "        li_longest.append(longest)\n",
    "print(set(li_longest))"
   ]
  },
  {
   "cell_type": "code",
   "execution_count": 1,
   "id": "41010e51",
   "metadata": {},
   "outputs": [
    {
     "name": "stdout",
     "output_type": "stream",
     "text": [
      "a z\n",
      "z c\n",
      "c b\n",
      "b o\n",
      "o b\n",
      "b o\n",
      "o b\n",
      "b e\n",
      "e g\n",
      "g g\n",
      "g h\n",
      "h a\n",
      "a k\n",
      "k l\n",
      "{'az', '', 'gh', 'kl', 'bo', 'be', 'ak', 'eg'}\n"
     ]
    }
   ],
   "source": [
    "li_longest = []\n",
    "s = 'azcbobobegghakl'\n",
    "for i,j in enumerate(s[:-1]):\n",
    "    longest = ''\n",
    "    if i<len(s):\n",
    "        ziped = zip(s[i], s[i+1])\n",
    "        for p in ziped:\n",
    "            print(p[0],p[1])\n",
    "            if p[0]<p[1]:\n",
    "                longest+=p[0]\n",
    "                longest+=p[1]\n",
    "            li_longest.append(longest)\n",
    "    else:\n",
    "        pass\n",
    "#     print(i)\n",
    "#     #add a counter in index\n",
    "#     for k in s[i+1:i+2]:\n",
    "#         print(k)\n",
    "#         if j<k:\n",
    "#             print('t')\n",
    "#             longest+=(k)\n",
    "# #             if l in s[]\n",
    "#         else:\n",
    "#             pass\n",
    "# #             longest+=(k)\n",
    "#         if j<l:\n",
    "#             print('te')\n",
    "#             for n,m in enumerate(s[k:k+1]):\n",
    "#                 if l<n:\n",
    "#                     print(m)\n",
    "#                     for o,p in enumerate(s[n:n+1]):\n",
    "#                         if p<m:\n",
    "#                             print(m)\n",
    "#                             print(s[:o])\n",
    "print(set(li_longest))"
   ]
  },
  {
   "cell_type": "code",
   "execution_count": 59,
   "id": "bfb73bcc",
   "metadata": {},
   "outputs": [
    {
     "data": {
      "text/plain": [
       "True"
      ]
     },
     "execution_count": 59,
     "metadata": {},
     "output_type": "execute_result"
    }
   ],
   "source": [
    "'a'<'b'"
   ]
  },
  {
   "cell_type": "code",
   "execution_count": 2,
   "id": "7ba05007",
   "metadata": {},
   "outputs": [
    {
     "name": "stdout",
     "output_type": "stream",
     "text": [
      "0\n",
      "1\n",
      "2\n",
      "3\n",
      "4\n",
      "4\n"
     ]
    }
   ],
   "source": [
    "num = 10\n",
    "for num in range(5):\n",
    "    print(num)\n",
    "print(num)"
   ]
  },
  {
   "cell_type": "code",
   "execution_count": 3,
   "id": "a937eadd",
   "metadata": {},
   "outputs": [
    {
     "name": "stdout",
     "output_type": "stream",
     "text": [
      "0.0\n",
      "1.0\n",
      "2.0\n",
      "3.0\n",
      "4.0\n"
     ]
    }
   ],
   "source": [
    "divisor = 2\n",
    "for num in range(0, 10, 2):\n",
    "    print(num/divisor) "
   ]
  },
  {
   "cell_type": "code",
   "execution_count": 4,
   "id": "31d39b7f",
   "metadata": {},
   "outputs": [
    {
     "name": "stdout",
     "output_type": "stream",
     "text": [
      "0\n",
      "Foo!\n",
      "4\n",
      "8\n",
      "12\n",
      "16\n",
      "Foo!\n"
     ]
    }
   ],
   "source": [
    "for variable in range(20):\n",
    "    if variable % 4 == 0:\n",
    "        print(variable)\n",
    "    if variable % 16 == 0:\n",
    "        print('Foo!') "
   ]
  },
  {
   "cell_type": "code",
   "execution_count": 5,
   "id": "3eff3805",
   "metadata": {},
   "outputs": [
    {
     "data": {
      "text/plain": [
       "0"
      ]
     },
     "execution_count": 5,
     "metadata": {},
     "output_type": "execute_result"
    }
   ],
   "source": [
    "0% 16"
   ]
  },
  {
   "cell_type": "code",
   "execution_count": 7,
   "id": "91b87502",
   "metadata": {},
   "outputs": [
    {
     "name": "stdout",
     "output_type": "stream",
     "text": [
      "Iteration 0; count is: 12\n",
      "Iteration 1; count is: 24\n",
      "Iteration 2; count is: 36\n",
      "Iteration 3; count is: 48\n",
      "Iteration 4; count is: 60\n"
     ]
    }
   ],
   "source": [
    "count = 0\n",
    "phrase = \"hello, world\"\n",
    "for iteration in range(5):\n",
    "    count += len(phrase)\n",
    "\n",
    "    print(\"Iteration \" + str(iteration) + \"; count is: \" + str(count))"
   ]
  },
  {
   "cell_type": "code",
   "execution_count": 17,
   "id": "57c73a49",
   "metadata": {
    "collapsed": true,
    "jupyter": {
     "outputs_hidden": true
    },
    "tags": []
   },
   "outputs": [
    {
     "name": "stdout",
     "output_type": "stream",
     "text": [
      "0.1\n",
      "0.2\n",
      "0.30000000000000004\n",
      "0.4\n",
      "0.5\n",
      "0.6\n",
      "0.7\n",
      "0.7999999999999999\n",
      "0.8999999999999999\n",
      "0.9999999999999999\n",
      "1.0999999999999999\n",
      "1.2\n",
      "1.3\n",
      "1.4000000000000001\n",
      "1.5000000000000002\n",
      "1.6000000000000003\n",
      "1.7000000000000004\n",
      "1.8000000000000005\n",
      "1.9000000000000006\n",
      "2.0000000000000004\n",
      "2.1000000000000005\n",
      "2.2000000000000006\n",
      "2.3000000000000007\n",
      "2.400000000000001\n",
      "2.500000000000001\n",
      "2.600000000000001\n",
      "2.700000000000001\n",
      "2.800000000000001\n",
      "2.9000000000000012\n",
      "3.0000000000000013\n",
      "3.1000000000000014\n",
      "3.2000000000000015\n",
      "3.3000000000000016\n",
      "3.4000000000000017\n",
      "3.5000000000000018\n",
      "3.600000000000002\n",
      "3.700000000000002\n",
      "3.800000000000002\n",
      "3.900000000000002\n",
      "4.000000000000002\n",
      "4.100000000000001\n",
      "4.200000000000001\n",
      "4.300000000000001\n",
      "4.4\n",
      "4.5\n",
      "4.6\n",
      "4.699999999999999\n",
      "4.799999999999999\n",
      "4.899999999999999\n",
      "4.999999999999998\n",
      "5.099999999999998\n",
      "5.1999999999999975\n",
      "5.299999999999997\n",
      "5.399999999999997\n",
      "5.4999999999999964\n",
      "5.599999999999996\n",
      "5.699999999999996\n",
      "5.799999999999995\n",
      "5.899999999999995\n",
      "5.999999999999995\n",
      "6.099999999999994\n",
      "6.199999999999994\n",
      "6.299999999999994\n",
      "6.399999999999993\n",
      "6.499999999999993\n",
      "6.5999999999999925\n",
      "6.699999999999992\n",
      "6.799999999999992\n",
      "6.8999999999999915\n",
      "6.999999999999991\n",
      "7.099999999999991\n",
      "7.19999999999999\n",
      "7.29999999999999\n",
      "7.39999999999999\n",
      "7.499999999999989\n",
      "7.599999999999989\n",
      "7.699999999999989\n",
      "7.799999999999988\n",
      "7.899999999999988\n",
      "7.999999999999988\n",
      "8.099999999999987\n",
      "8.199999999999987\n",
      "8.299999999999986\n",
      "8.399999999999986\n",
      "8.499999999999986\n",
      "8.599999999999985\n",
      "8.699999999999985\n",
      "8.799999999999985\n",
      "8.899999999999984\n",
      "8.999999999999984\n",
      "9.099999999999984\n",
      "9.199999999999983\n",
      "9.299999999999983\n",
      "9.399999999999983\n",
      "9.499999999999982\n",
      "9.599999999999982\n",
      "9.699999999999982\n",
      "9.799999999999981\n",
      "9.89999999999998\n",
      "9.99999999999998\n",
      "10.09999999999998\n",
      "10.19999999999998\n",
      "10.29999999999998\n",
      "10.399999999999979\n",
      "10.499999999999979\n",
      "10.599999999999978\n",
      "10.699999999999978\n",
      "10.799999999999978\n",
      "10.899999999999977\n",
      "10.999999999999977\n",
      "11.099999999999977\n",
      "11.199999999999976\n",
      "11.299999999999976\n",
      "11.399999999999975\n",
      "11.499999999999975\n",
      "11.599999999999975\n",
      "11.699999999999974\n",
      "11.799999999999974\n",
      "11.899999999999974\n",
      "11.999999999999973\n",
      "12.099999999999973\n",
      "12.199999999999973\n",
      "12.299999999999972\n",
      "12.399999999999972\n",
      "12.499999999999972\n",
      "12.599999999999971\n",
      "12.69999999999997\n",
      "12.79999999999997\n",
      "12.89999999999997\n",
      "12.99999999999997\n",
      "13.09999999999997\n",
      "13.199999999999969\n",
      "13.299999999999969\n",
      "13.399999999999968\n",
      "13.499999999999968\n",
      "13.599999999999968\n",
      "13.699999999999967\n",
      "13.799999999999967\n",
      "13.899999999999967\n",
      "13.999999999999966\n",
      "14.099999999999966\n",
      "14.199999999999966\n",
      "14.299999999999965\n",
      "14.399999999999965\n",
      "14.499999999999964\n",
      "14.599999999999964\n",
      "14.699999999999964\n",
      "14.799999999999963\n",
      "14.899999999999963\n",
      "14.999999999999963\n",
      "15.099999999999962\n",
      "15.199999999999962\n",
      "15.299999999999962\n",
      "15.399999999999961\n",
      "15.499999999999961\n",
      "15.59999999999996\n",
      "15.69999999999996\n",
      "15.79999999999996\n",
      "15.89999999999996\n",
      "15.99999999999996\n",
      "16.09999999999996\n",
      "16.19999999999996\n",
      "16.29999999999996\n",
      "16.399999999999963\n",
      "16.499999999999964\n",
      "16.599999999999966\n",
      "16.699999999999967\n",
      "16.79999999999997\n",
      "16.89999999999997\n",
      "16.99999999999997\n",
      "17.099999999999973\n",
      "17.199999999999974\n",
      "17.299999999999976\n",
      "17.399999999999977\n",
      "17.49999999999998\n",
      "17.59999999999998\n",
      "17.69999999999998\n",
      "17.799999999999983\n",
      "17.899999999999984\n",
      "17.999999999999986\n",
      "18.099999999999987\n",
      "18.19999999999999\n",
      "18.29999999999999\n",
      "18.39999999999999\n",
      "18.499999999999993\n",
      "18.599999999999994\n",
      "18.699999999999996\n",
      "18.799999999999997\n",
      "18.9\n",
      "19.0\n",
      "19.1\n",
      "19.200000000000003\n",
      "19.300000000000004\n",
      "19.400000000000006\n",
      "19.500000000000007\n",
      "19.60000000000001\n",
      "19.70000000000001\n",
      "19.80000000000001\n",
      "19.900000000000013\n",
      "20.000000000000014\n",
      "20.100000000000016\n",
      "20.200000000000017\n",
      "20.30000000000002\n",
      "20.40000000000002\n",
      "20.50000000000002\n",
      "20.600000000000023\n",
      "20.700000000000024\n",
      "20.800000000000026\n",
      "20.900000000000027\n",
      "21.00000000000003\n",
      "21.10000000000003\n",
      "21.20000000000003\n",
      "21.300000000000033\n",
      "21.400000000000034\n",
      "21.500000000000036\n",
      "21.600000000000037\n",
      "21.70000000000004\n",
      "21.80000000000004\n",
      "21.90000000000004\n",
      "22.000000000000043\n",
      "22.100000000000044\n",
      "22.200000000000045\n",
      "22.300000000000047\n",
      "22.40000000000005\n",
      "22.50000000000005\n",
      "22.60000000000005\n",
      "22.700000000000053\n",
      "22.800000000000054\n",
      "22.900000000000055\n",
      "23.000000000000057\n",
      "break\n",
      "failed\n"
     ]
    }
   ],
   "source": [
    "x = 23\n",
    "epsilon = 0.01\n",
    "step = 0.1\n",
    "guess = 0.0\n",
    "\n",
    "while abs(guess**2-x) >= epsilon:\n",
    "    if guess <= x:\n",
    "        guess += step\n",
    "    else:\n",
    "        print('break')\n",
    "        break\n",
    "    print(guess)\n",
    "\n",
    "if abs(guess**2 - x) >= epsilon:\n",
    "    print('failed')\n",
    "else:\n",
    "    print('succeeded: ' + str(guess))"
   ]
  },
  {
   "cell_type": "code",
   "execution_count": 20,
   "id": "b2be2a5b",
   "metadata": {
    "tags": []
   },
   "outputs": [
    {
     "ename": "KeyboardInterrupt",
     "evalue": "",
     "output_type": "error",
     "traceback": [
      "\u001b[0;31m---------------------------------------------------------------------------\u001b[0m",
      "\u001b[0;31mKeyboardInterrupt\u001b[0m                         Traceback (most recent call last)",
      "\u001b[0;32m<ipython-input-20-0562bdf08c9a>\u001b[0m in \u001b[0;36m<module>\u001b[0;34m\u001b[0m\n\u001b[1;32m      6\u001b[0m \u001b[0;32mwhile\u001b[0m \u001b[0mguess\u001b[0m \u001b[0;34m<=\u001b[0m \u001b[0mx\u001b[0m\u001b[0;34m:\u001b[0m\u001b[0;34m\u001b[0m\u001b[0;34m\u001b[0m\u001b[0m\n\u001b[1;32m      7\u001b[0m \u001b[0;31m#     print(guess)\u001b[0m\u001b[0;34m\u001b[0m\u001b[0;34m\u001b[0m\u001b[0;34m\u001b[0m\u001b[0m\n\u001b[0;32m----> 8\u001b[0;31m     \u001b[0;32mif\u001b[0m \u001b[0mabs\u001b[0m\u001b[0;34m(\u001b[0m\u001b[0mguess\u001b[0m\u001b[0;34m**\u001b[0m\u001b[0;36m2\u001b[0m \u001b[0;34m-\u001b[0m\u001b[0mx\u001b[0m\u001b[0;34m)\u001b[0m \u001b[0;34m>=\u001b[0m \u001b[0mepsilon\u001b[0m\u001b[0;34m:\u001b[0m\u001b[0;34m\u001b[0m\u001b[0;34m\u001b[0m\u001b[0m\n\u001b[0m\u001b[1;32m      9\u001b[0m         \u001b[0mguess\u001b[0m \u001b[0;34m+=\u001b[0m \u001b[0mstep\u001b[0m\u001b[0;34m\u001b[0m\u001b[0;34m\u001b[0m\u001b[0m\n\u001b[1;32m     10\u001b[0m \u001b[0;34m\u001b[0m\u001b[0m\n",
      "\u001b[0;31mKeyboardInterrupt\u001b[0m: "
     ]
    }
   ],
   "source": [
    "x = 25\n",
    "epsilon = 0.01\n",
    "step = 0.1\n",
    "guess = 0.0\n",
    "\n",
    "while guess <= x:\n",
    "#     print(guess)\n",
    "    if abs(guess**2 -x) >= epsilon:\n",
    "        guess += step\n",
    "\n",
    "if abs(guess**2 - x) >= epsilon:\n",
    "    print('failed')\n",
    "else:\n",
    "    print('succeeded: ' + str(guess))"
   ]
  },
  {
   "cell_type": "code",
   "execution_count": 18,
   "id": "3b64bb62",
   "metadata": {},
   "outputs": [
    {
     "data": {
      "text/plain": [
       "25.0"
      ]
     },
     "execution_count": 18,
     "metadata": {},
     "output_type": "execute_result"
    }
   ],
   "source": [
    "x = 25\n",
    "epsilon = 0.01\n",
    "step = 0.1\n",
    "guess = 0.0\n",
    "\n",
    "\n",
    "abs(guess**2 -x)\n",
    "\n"
   ]
  },
  {
   "cell_type": "code",
   "execution_count": 4,
   "id": "82b6f5d0",
   "metadata": {},
   "outputs": [
    {
     "name": "stdout",
     "output_type": "stream",
     "text": [
      "Please think of a number between 0 and 100!\n",
      "Is your secret number 50 ?\n"
     ]
    },
    {
     "name": "stdin",
     "output_type": "stream",
     "text": [
      "Enter 'h' to indicate the guess is too high. Enter 'l' to indicate the guess is too low. Enter 'c' to indicate I guessed correctly. l\n"
     ]
    },
    {
     "name": "stdout",
     "output_type": "stream",
     "text": [
      "Is your secret number 75 ?\n"
     ]
    },
    {
     "name": "stdin",
     "output_type": "stream",
     "text": [
      "Enter 'h' to indicate the guess is too high. Enter 'l' to indicate the guess is too low. Enter 'c' to indicate I guessed correctly. l\n"
     ]
    },
    {
     "name": "stdout",
     "output_type": "stream",
     "text": [
      "Is your secret number 87 ?\n"
     ]
    },
    {
     "name": "stdin",
     "output_type": "stream",
     "text": [
      "Enter 'h' to indicate the guess is too high. Enter 'l' to indicate the guess is too low. Enter 'c' to indicate I guessed correctly. h\n"
     ]
    },
    {
     "name": "stdout",
     "output_type": "stream",
     "text": [
      "Is your secret number 81 ?\n"
     ]
    },
    {
     "name": "stdin",
     "output_type": "stream",
     "text": [
      "Enter 'h' to indicate the guess is too high. Enter 'l' to indicate the guess is too low. Enter 'c' to indicate I guessed correctly. h\n"
     ]
    },
    {
     "name": "stdout",
     "output_type": "stream",
     "text": [
      "Is your secret number 78 ?\n"
     ]
    },
    {
     "name": "stdin",
     "output_type": "stream",
     "text": [
      "Enter 'h' to indicate the guess is too high. Enter 'l' to indicate the guess is too low. Enter 'c' to indicate I guessed correctly. h\n"
     ]
    },
    {
     "name": "stdout",
     "output_type": "stream",
     "text": [
      "Is your secret number 76 ?\n"
     ]
    },
    {
     "ename": "KeyboardInterrupt",
     "evalue": "Interrupted by user",
     "output_type": "error",
     "traceback": [
      "\u001b[0;31m---------------------------------------------------------------------------\u001b[0m",
      "\u001b[0;31mKeyboardInterrupt\u001b[0m                         Traceback (most recent call last)",
      "\u001b[0;32m<ipython-input-4-3ad0daa0b242>\u001b[0m in \u001b[0;36m<module>\u001b[0;34m\u001b[0m\n\u001b[1;32m     11\u001b[0m \u001b[0;34m\u001b[0m\u001b[0m\n\u001b[1;32m     12\u001b[0m \u001b[0;32mwhile\u001b[0m \u001b[0muser_input\u001b[0m \u001b[0;34m!=\u001b[0m \u001b[0;34m'c'\u001b[0m\u001b[0;34m:\u001b[0m\u001b[0;34m\u001b[0m\u001b[0;34m\u001b[0m\u001b[0m\n\u001b[0;32m---> 13\u001b[0;31m     \u001b[0muser_input\u001b[0m \u001b[0;34m=\u001b[0m \u001b[0minput\u001b[0m\u001b[0;34m(\u001b[0m\u001b[0;34m\"Enter 'h' to indicate the guess is too high. Enter 'l' to indicate the guess is too low. Enter 'c' to indicate I guessed correctly.\"\u001b[0m\u001b[0;34m)\u001b[0m\u001b[0;34m\u001b[0m\u001b[0;34m\u001b[0m\u001b[0m\n\u001b[0m\u001b[1;32m     14\u001b[0m     \u001b[0;32mif\u001b[0m \u001b[0muser_input\u001b[0m\u001b[0;34m==\u001b[0m\u001b[0;34m'l'\u001b[0m\u001b[0;34m:\u001b[0m\u001b[0;34m\u001b[0m\u001b[0;34m\u001b[0m\u001b[0m\n\u001b[1;32m     15\u001b[0m         \u001b[0mlow\u001b[0m \u001b[0;34m=\u001b[0m \u001b[0mnew_guess\u001b[0m\u001b[0;34m\u001b[0m\u001b[0;34m\u001b[0m\u001b[0m\n",
      "\u001b[0;32m/usr/local/lib/python3.6/site-packages/ipykernel/kernelbase.py\u001b[0m in \u001b[0;36mraw_input\u001b[0;34m(self, prompt)\u001b[0m\n\u001b[1;32m    849\u001b[0m             \u001b[0mself\u001b[0m\u001b[0;34m.\u001b[0m\u001b[0m_parent_ident\u001b[0m\u001b[0;34m,\u001b[0m\u001b[0;34m\u001b[0m\u001b[0;34m\u001b[0m\u001b[0m\n\u001b[1;32m    850\u001b[0m             \u001b[0mself\u001b[0m\u001b[0;34m.\u001b[0m\u001b[0m_parent_header\u001b[0m\u001b[0;34m,\u001b[0m\u001b[0;34m\u001b[0m\u001b[0;34m\u001b[0m\u001b[0m\n\u001b[0;32m--> 851\u001b[0;31m             \u001b[0mpassword\u001b[0m\u001b[0;34m=\u001b[0m\u001b[0;32mFalse\u001b[0m\u001b[0;34m,\u001b[0m\u001b[0;34m\u001b[0m\u001b[0;34m\u001b[0m\u001b[0m\n\u001b[0m\u001b[1;32m    852\u001b[0m         )\n\u001b[1;32m    853\u001b[0m \u001b[0;34m\u001b[0m\u001b[0m\n",
      "\u001b[0;32m/usr/local/lib/python3.6/site-packages/ipykernel/kernelbase.py\u001b[0m in \u001b[0;36m_input_request\u001b[0;34m(self, prompt, ident, parent, password)\u001b[0m\n\u001b[1;32m    890\u001b[0m             \u001b[0;32mexcept\u001b[0m \u001b[0mKeyboardInterrupt\u001b[0m\u001b[0;34m:\u001b[0m\u001b[0;34m\u001b[0m\u001b[0;34m\u001b[0m\u001b[0m\n\u001b[1;32m    891\u001b[0m                 \u001b[0;31m# re-raise KeyboardInterrupt, to truncate traceback\u001b[0m\u001b[0;34m\u001b[0m\u001b[0;34m\u001b[0m\u001b[0;34m\u001b[0m\u001b[0m\n\u001b[0;32m--> 892\u001b[0;31m                 \u001b[0;32mraise\u001b[0m \u001b[0mKeyboardInterrupt\u001b[0m\u001b[0;34m(\u001b[0m\u001b[0;34m\"Interrupted by user\"\u001b[0m\u001b[0;34m)\u001b[0m \u001b[0;32mfrom\u001b[0m \u001b[0;32mNone\u001b[0m\u001b[0;34m\u001b[0m\u001b[0;34m\u001b[0m\u001b[0m\n\u001b[0m\u001b[1;32m    893\u001b[0m             \u001b[0;32mexcept\u001b[0m \u001b[0mException\u001b[0m \u001b[0;32mas\u001b[0m \u001b[0me\u001b[0m\u001b[0;34m:\u001b[0m\u001b[0;34m\u001b[0m\u001b[0;34m\u001b[0m\u001b[0m\n\u001b[1;32m    894\u001b[0m                 \u001b[0mself\u001b[0m\u001b[0;34m.\u001b[0m\u001b[0mlog\u001b[0m\u001b[0;34m.\u001b[0m\u001b[0mwarning\u001b[0m\u001b[0;34m(\u001b[0m\u001b[0;34m\"Invalid Message:\"\u001b[0m\u001b[0;34m,\u001b[0m \u001b[0mexc_info\u001b[0m\u001b[0;34m=\u001b[0m\u001b[0;32mTrue\u001b[0m\u001b[0;34m)\u001b[0m\u001b[0;34m\u001b[0m\u001b[0;34m\u001b[0m\u001b[0m\n",
      "\u001b[0;31mKeyboardInterrupt\u001b[0m: Interrupted by user"
     ]
    }
   ],
   "source": [
    "# print('Please think of a number between 0 and 100!')\n",
    "\n",
    "print(\"Please think of a number between 0 and 100!\")\n",
    "\n",
    "low = 0\n",
    "high = 100\n",
    "new_guess = (low + high) // 2\n",
    "print('Is your secret number', new_guess, '?')\n",
    "# user_input = input(\"Enter 'h' to indicate the guess is too high. Enter 'l' to indicate the guess is too low. Enter 'c' to indicate I guessed correctly.\")\n",
    "user_input = 'p'\n",
    "\n",
    "while user_input != 'c':\n",
    "    user_input = input(\"Enter 'h' to indicate the guess is too high. Enter 'l' to indicate the guess is too low. Enter 'c' to indicate I guessed correctly.\")\n",
    "    if user_input=='l':\n",
    "        low = new_guess\n",
    "        new_guess = (low + high) // 2\n",
    "        print('Is your secret number', new_guess, '?')\n",
    "    elif user_input=='h':\n",
    "        high = new_guess\n",
    "        new_guess = (low + high) // 2\n",
    "        print('Is your secret number', new_guess, '?')\n",
    "    elif user_input=='c':\n",
    "        print('Game over. Your secret number was:', new_guess)\n",
    "    else:\n",
    "        print('Sorry, I did not understand your input.')\n",
    "        print('Is your secret number', new_guess, '?')\n",
    "\n"
   ]
  },
  {
   "cell_type": "code",
   "execution_count": null,
   "id": "a1096a13",
   "metadata": {},
   "outputs": [],
   "source": []
  },
  {
   "cell_type": "code",
   "execution_count": 2,
   "id": "f627951a",
   "metadata": {},
   "outputs": [
    {
     "name": "stdout",
     "output_type": "stream",
     "text": [
      "Please think of a number between 0 and 100!\n",
      "Is your secret number 50.0 ?\n"
     ]
    },
    {
     "name": "stdin",
     "output_type": "stream",
     "text": [
      "Enter 'h' to indicate the guess is too high. Enter 'l' to indicate the guess is too low. Enter 'c' to indicate I guessed correctly. p\n"
     ]
    },
    {
     "name": "stdout",
     "output_type": "stream",
     "text": [
      "Sorry, I did not understand your input.\n",
      "Is your secret number 50.0 ?\n"
     ]
    },
    {
     "name": "stdin",
     "output_type": "stream",
     "text": [
      "Enter 'h' to indicate the guess is too high. Enter 'l' to indicate the guess is too low. Enter 'c' to indicate I guessed correctly. l\n"
     ]
    },
    {
     "name": "stdout",
     "output_type": "stream",
     "text": [
      "Is your secret number 75.0 ?\n"
     ]
    },
    {
     "name": "stdin",
     "output_type": "stream",
     "text": [
      "Enter 'h' to indicate the guess is too high. Enter 'l' to indicate the guess is too low. Enter 'c' to indicate I guessed correctly. h\n"
     ]
    },
    {
     "name": "stdout",
     "output_type": "stream",
     "text": [
      "Is your secret number 62.5 ?\n"
     ]
    },
    {
     "name": "stdin",
     "output_type": "stream",
     "text": [
      "Enter 'h' to indicate the guess is too high. Enter 'l' to indicate the guess is too low. Enter 'c' to indicate I guessed correctly. h\n"
     ]
    },
    {
     "name": "stdout",
     "output_type": "stream",
     "text": [
      "Is your secret number 56.25 ?\n"
     ]
    },
    {
     "name": "stdin",
     "output_type": "stream",
     "text": [
      "Enter 'h' to indicate the guess is too high. Enter 'l' to indicate the guess is too low. Enter 'c' to indicate I guessed correctly. l\n"
     ]
    },
    {
     "name": "stdout",
     "output_type": "stream",
     "text": [
      "Is your secret number 59.375 ?\n"
     ]
    },
    {
     "name": "stdin",
     "output_type": "stream",
     "text": [
      "Enter 'h' to indicate the guess is too high. Enter 'l' to indicate the guess is too low. Enter 'c' to indicate I guessed correctly. h\n"
     ]
    },
    {
     "name": "stdout",
     "output_type": "stream",
     "text": [
      "Is your secret number 57.8125 ?\n"
     ]
    },
    {
     "ename": "KeyboardInterrupt",
     "evalue": "Interrupted by user",
     "output_type": "error",
     "traceback": [
      "\u001b[0;31m---------------------------------------------------------------------------\u001b[0m",
      "\u001b[0;31mKeyboardInterrupt\u001b[0m                         Traceback (most recent call last)",
      "\u001b[0;32m<ipython-input-2-fdb85fd7edac>\u001b[0m in \u001b[0;36m<module>\u001b[0;34m\u001b[0m\n\u001b[1;32m     11\u001b[0m \u001b[0;34m\u001b[0m\u001b[0m\n\u001b[1;32m     12\u001b[0m \u001b[0;32mwhile\u001b[0m \u001b[0muser_input\u001b[0m \u001b[0;34m!=\u001b[0m \u001b[0;34m'c'\u001b[0m\u001b[0;34m:\u001b[0m\u001b[0;34m\u001b[0m\u001b[0;34m\u001b[0m\u001b[0m\n\u001b[0;32m---> 13\u001b[0;31m     \u001b[0muser_input\u001b[0m \u001b[0;34m=\u001b[0m \u001b[0minput\u001b[0m\u001b[0;34m(\u001b[0m\u001b[0;34m\"Enter 'h' to indicate the guess is too high. Enter 'l' to indicate the guess is too low. Enter 'c' to indicate I guessed correctly.\"\u001b[0m\u001b[0;34m)\u001b[0m\u001b[0;34m\u001b[0m\u001b[0;34m\u001b[0m\u001b[0m\n\u001b[0m\u001b[1;32m     14\u001b[0m     \u001b[0;32mif\u001b[0m \u001b[0muser_input\u001b[0m\u001b[0;34m==\u001b[0m\u001b[0;34m'l'\u001b[0m\u001b[0;34m:\u001b[0m\u001b[0;34m\u001b[0m\u001b[0;34m\u001b[0m\u001b[0m\n\u001b[1;32m     15\u001b[0m         \u001b[0mlow\u001b[0m \u001b[0;34m=\u001b[0m \u001b[0mnew_guess\u001b[0m\u001b[0;34m\u001b[0m\u001b[0;34m\u001b[0m\u001b[0m\n",
      "\u001b[0;32m/usr/local/lib/python3.6/site-packages/ipykernel/kernelbase.py\u001b[0m in \u001b[0;36mraw_input\u001b[0;34m(self, prompt)\u001b[0m\n\u001b[1;32m    849\u001b[0m             \u001b[0mself\u001b[0m\u001b[0;34m.\u001b[0m\u001b[0m_parent_ident\u001b[0m\u001b[0;34m,\u001b[0m\u001b[0;34m\u001b[0m\u001b[0;34m\u001b[0m\u001b[0m\n\u001b[1;32m    850\u001b[0m             \u001b[0mself\u001b[0m\u001b[0;34m.\u001b[0m\u001b[0m_parent_header\u001b[0m\u001b[0;34m,\u001b[0m\u001b[0;34m\u001b[0m\u001b[0;34m\u001b[0m\u001b[0m\n\u001b[0;32m--> 851\u001b[0;31m             \u001b[0mpassword\u001b[0m\u001b[0;34m=\u001b[0m\u001b[0;32mFalse\u001b[0m\u001b[0;34m,\u001b[0m\u001b[0;34m\u001b[0m\u001b[0;34m\u001b[0m\u001b[0m\n\u001b[0m\u001b[1;32m    852\u001b[0m         )\n\u001b[1;32m    853\u001b[0m \u001b[0;34m\u001b[0m\u001b[0m\n",
      "\u001b[0;32m/usr/local/lib/python3.6/site-packages/ipykernel/kernelbase.py\u001b[0m in \u001b[0;36m_input_request\u001b[0;34m(self, prompt, ident, parent, password)\u001b[0m\n\u001b[1;32m    890\u001b[0m             \u001b[0;32mexcept\u001b[0m \u001b[0mKeyboardInterrupt\u001b[0m\u001b[0;34m:\u001b[0m\u001b[0;34m\u001b[0m\u001b[0;34m\u001b[0m\u001b[0m\n\u001b[1;32m    891\u001b[0m                 \u001b[0;31m# re-raise KeyboardInterrupt, to truncate traceback\u001b[0m\u001b[0;34m\u001b[0m\u001b[0;34m\u001b[0m\u001b[0;34m\u001b[0m\u001b[0m\n\u001b[0;32m--> 892\u001b[0;31m                 \u001b[0;32mraise\u001b[0m \u001b[0mKeyboardInterrupt\u001b[0m\u001b[0;34m(\u001b[0m\u001b[0;34m\"Interrupted by user\"\u001b[0m\u001b[0;34m)\u001b[0m \u001b[0;32mfrom\u001b[0m \u001b[0;32mNone\u001b[0m\u001b[0;34m\u001b[0m\u001b[0;34m\u001b[0m\u001b[0m\n\u001b[0m\u001b[1;32m    893\u001b[0m             \u001b[0;32mexcept\u001b[0m \u001b[0mException\u001b[0m \u001b[0;32mas\u001b[0m \u001b[0me\u001b[0m\u001b[0;34m:\u001b[0m\u001b[0;34m\u001b[0m\u001b[0;34m\u001b[0m\u001b[0m\n\u001b[1;32m    894\u001b[0m                 \u001b[0mself\u001b[0m\u001b[0;34m.\u001b[0m\u001b[0mlog\u001b[0m\u001b[0;34m.\u001b[0m\u001b[0mwarning\u001b[0m\u001b[0;34m(\u001b[0m\u001b[0;34m\"Invalid Message:\"\u001b[0m\u001b[0;34m,\u001b[0m \u001b[0mexc_info\u001b[0m\u001b[0;34m=\u001b[0m\u001b[0;32mTrue\u001b[0m\u001b[0;34m)\u001b[0m\u001b[0;34m\u001b[0m\u001b[0;34m\u001b[0m\u001b[0m\n",
      "\u001b[0;31mKeyboardInterrupt\u001b[0m: Interrupted by user"
     ]
    }
   ],
   "source": [
    "# print('Please think of a number between 0 and 100!')\n",
    "\n",
    "print(\"Please think of a number between 0 and 100!\")\n",
    "\n",
    "low = 0\n",
    "high = 100\n",
    "new_guess = (low + high) / 2\n",
    "print('Is your secret number', new_guess, '?')\n",
    "# user_input = input(\"Enter 'h' to indicate the guess is too high. Enter 'l' to indicate the guess is too low. Enter 'c' to indicate I guessed correctly.\")\n",
    "user_input = ''\n",
    "\n",
    "while user_input != 'c':\n",
    "    user_input = input(\"Enter 'h' to indicate the guess is too high. Enter 'l' to indicate the guess is too low. Enter 'c' to indicate I guessed correctly.\")\n",
    "    if user_input=='l':\n",
    "        low = new_guess\n",
    "        new_guess = (low + high) / 2\n",
    "        print('Is your secret number', new_guess, '?')\n",
    "    elif user_input=='h':\n",
    "        high = new_guess\n",
    "        new_guess = (low + high) / 2\n",
    "        print('Is your secret number', new_guess, '?')\n",
    "    elif user_input=='c':\n",
    "        print('Game over. Your secret number was:', new_guess)\n",
    "    else:\n",
    "        print('Sorry, I did not understand your input.')\n",
    "        print('Is your secret number', new_guess, '?')\n",
    "\n"
   ]
  },
  {
   "cell_type": "code",
   "execution_count": 22,
   "id": "a7137582",
   "metadata": {},
   "outputs": [
    {
     "name": "stdout",
     "output_type": "stream",
     "text": [
      "Month 11 Remaing balance: 31.38\n"
     ]
    }
   ],
   "source": [
    "# balance - the outstanding balance on the credit card\n",
    "\n",
    "# annualInterestRate - annual interest rate as a decimal\n",
    "\n",
    "# monthlyPaymentRate - minimum monthly payment rate as a decimal\n",
    "\n",
    "# balance = 5000\n",
    "# annualInterestRate = 0.18\n",
    "# \n",
    "# monthlyPaymentRate = 0.02\n",
    "\n",
    "balance = 42\n",
    "annualInterestRate = 0.2\n",
    "monthlyPaymentRate = 0.04\n",
    "\n",
    "\n",
    "for i in range(12):\n",
    "    monthlyInterestRate = annualInterestRate/12.0\n",
    "    minimumMonthlyPayment = monthlyPaymentRate*balance\n",
    "    monthlyUnpaidBalance = balance-minimumMonthlyPayment\n",
    "    balance = monthlyUnpaidBalance + (monthlyUnpaidBalance*monthlyInterestRate)\n",
    "print('Month', i, \"Remaining balance:\", round(balance,2))"
   ]
  },
  {
   "cell_type": "code",
   "execution_count": 154,
   "id": "cac64211",
   "metadata": {},
   "outputs": [
    {
     "name": "stdout",
     "output_type": "stream",
     "text": [
      "MIN 310 Remaining balance: -211.27\n"
     ]
    }
   ],
   "source": [
    "balance = 3329\n",
    "balance_temp = 3329\n",
    "annualInterestRate = 0.2\n",
    "# minimumMonthlyPayment = 310\n",
    "\n",
    "for m in range(310, balance, 10):\n",
    "    balance_temp = 3229\n",
    "    for i in range(12):\n",
    "        monthlyInterestRate = annualInterestRate/12.0\n",
    "        minimumMonthlyPayment = m\n",
    "        monthlyUnpaidBalance = balance_temp-minimumMonthlyPayment\n",
    "        balance_temp = monthlyUnpaidBalance + (monthlyUnpaidBalance*monthlyInterestRate)\n",
    "    if balance_temp<=0:\n",
    "        print('MIN', m, \"Remaining balance:\", round(balance_temp,2))\n",
    "        break"
   ]
  },
  {
   "cell_type": "code",
   "execution_count": 160,
   "id": "424dfb3d",
   "metadata": {},
   "outputs": [
    {
     "name": "stdout",
     "output_type": "stream",
     "text": [
      "Lowest payment 50\n"
     ]
    }
   ],
   "source": [
    "balance = 520\n",
    "balance_temp = balance\n",
    "annualInterestRate = 0.2\n",
    "# minimumMonthlyPayment = 310\n",
    "\n",
    "for m in range(0, balance, 10):\n",
    "    balance_temp = balance\n",
    "    for i in range(12):\n",
    "        \n",
    "        monthlyInterestRate = annualInterestRate/12.0\n",
    "        minimumMonthlyPayment = m\n",
    "        monthlyUnpaidBalance = balance_temp-minimumMonthlyPayment\n",
    "        balance_temp = monthlyUnpaidBalance + (monthlyUnpaidBalance*monthlyInterestRate)\n",
    "    if balance_temp<=0:\n",
    "        print('Lowest payment', m)\n",
    "        break"
   ]
  },
  {
   "cell_type": "code",
   "execution_count": 105,
   "id": "0ed731ca",
   "metadata": {},
   "outputs": [
    {
     "data": {
      "text/plain": [
       "277.4166666666667"
      ]
     },
     "execution_count": 105,
     "metadata": {},
     "output_type": "execute_result"
    }
   ],
   "source": [
    "3329/12"
   ]
  },
  {
   "cell_type": "code",
   "execution_count": 103,
   "id": "3ce79c7a",
   "metadata": {},
   "outputs": [
    {
     "name": "stdout",
     "output_type": "stream",
     "text": [
      "3329\n",
      "304 11 -9.035356833111338\n",
      "-9.035356833111338\n",
      "305 11 -4092.788768233083\n",
      "Lowest payment 305\n"
     ]
    }
   ],
   "source": [
    "balance = 3329\n",
    "annualInterestRate = 0.2\n",
    "# monthlyPaymentRate = 0.04\n",
    "\n",
    "# minimumMonthlyPayment = monthlyPaymentRate*balance\n",
    "# payment of balance + interest within 12 months\n",
    "# find what interest is at 12 months if paid no payments, then divide total by 12\n",
    "\n",
    "# monthlyPaymentRate = m\n",
    "\n",
    "for m in range(304, 306):\n",
    "    print(balance)\n",
    "    for i in range(12):\n",
    "        monthlyInterestRate = annualInterestRate/12.0\n",
    "#         minimumMonthlyPayment=m\n",
    "        monthlyUnpaidBalance = balance-m\n",
    "        balance = monthlyUnpaidBalance + (monthlyUnpaidBalance*monthlyInterestRate)\n",
    "    print(m, i, balance)\n",
    "#     if balance<=0:\n",
    "#         break\n",
    "print('Lowest payment', m)"
   ]
  },
  {
   "cell_type": "code",
   "execution_count": 2,
   "id": "77e1ad34",
   "metadata": {},
   "outputs": [
    {
     "name": "stdout",
     "output_type": "stream",
     "text": [
      "9963.385127331827 8333.25\n",
      "Lowest payment 9033\n"
     ]
    }
   ],
   "source": [
    "balance = 99999\n",
    "balance_temp = balance\n",
    "annualInterestRate = 0.18\n",
    "monthlyInterestRate = annualInterestRate/12.0\n",
    "\n",
    "lower_bound = balance / 12\n",
    "upper_bound = (float(balance) * (1 + monthlyInterestRate)**12) / 12.0\n",
    "print(upper_bound, lower_bound)\n",
    "\n",
    "for m in range(int(lower_bound), int(upper_bound)):\n",
    "    balance_temp = balance\n",
    "    for i in range(12):\n",
    "        \n",
    "        minimumMonthlyPayment = m\n",
    "        monthlyUnpaidBalance = balance_temp-minimumMonthlyPayment\n",
    "        balance_temp = monthlyUnpaidBalance + (monthlyUnpaidBalance*monthlyInterestRate)\n",
    "\n",
    "        \n",
    "    if balance_temp<=0:\n",
    "        print('Lowest payment', m)\n",
    "        break"
   ]
  },
  {
   "cell_type": "code",
   "execution_count": 89,
   "id": "dbc8c8a4",
   "metadata": {},
   "outputs": [
    {
     "name": "stdout",
     "output_type": "stream",
     "text": [
      "Lowest payment 303.456666666643\n"
     ]
    }
   ],
   "source": [
    "balance = 3329\n",
    "balance_temp = balance\n",
    "annualInterestRate = 0.2\n",
    "monthlyInterestRate = annualInterestRate/12.0\n",
    "increment=0.01\n",
    "epsilon=0.01\n",
    "\n",
    "lower_bound = balance / 12\n",
    "upper_bound = (float(balance) * (1 + monthlyInterestRate)**12) / 12.0\n",
    "# print(upper_bound, lower_bound)\n",
    "\n",
    "# for m in range(int(lower_bound), int(upper_bound)):\n",
    "while abs(upper_bound-lower_bound)>=epsilon:\n",
    "    \n",
    "    balance_temp = balance\n",
    "    for i in range(12):\n",
    "        lower_bound=lower_bound+increment\n",
    "#         print(lower_bound)\n",
    "        minimumMonthlyPayment = lower_bound\n",
    "        monthlyUnpaidBalance = balance_temp-minimumMonthlyPayment\n",
    "        balance_temp = monthlyUnpaidBalance + (monthlyUnpaidBalance*monthlyInterestRate)\n",
    "    if balance_temp<=0:\n",
    "        print('Lowest payment', lower_bound)\n",
    "        break\n",
    "    else:\n",
    "        continue"
   ]
  },
  {
   "cell_type": "code",
   "execution_count": 31,
   "id": "e6059e3a",
   "metadata": {},
   "outputs": [
    {
     "name": "stdout",
     "output_type": "stream",
     "text": [
      "-15341.130163875849 sf\n",
      "38603.907614704745 sf\n",
      "11631.388725414663 sf\n",
      "-1854.8707192302609 sf\n",
      "4888.259003092341 sf\n",
      "1516.694141930671 sf\n",
      "-169.08828864969146 sf\n",
      "673.8029266405341 sf\n",
      "252.35731899511856 sf\n",
      "41.63451517264708 sf\n",
      "-63.72688673823417 sf\n",
      "-11.046185782675384 sf\n",
      "15.29416469481599 sf\n",
      "2.1239894559447565 sf\n",
      "-4.461098163749338 sf\n",
      "-1.1685543537841294 sf\n",
      "0.4777175513683323 sf\n",
      "-0.3454184011118923 sf\n",
      "0.0661495749362075 sf\n",
      "-0.13963441301399143 sf\n",
      "-0.03674241866225202 sf\n",
      "0.014703578210828709 sf\n",
      "-0.011019419930307776 sf\n",
      "0.0018420793913537636 sf\n",
      "Lowest Payment: 90325.03\n"
     ]
    }
   ],
   "source": [
    "balance = 999999\n",
    "balance_temp = balance\n",
    "annualInterestRate = 0.18\n",
    "monthlyInterestRate = annualInterestRate/12.0\n",
    "# increment=0.01\n",
    "epsilon=0.001\n",
    "\n",
    "lower_bound = balance / 12\n",
    "upper_bound = (float(balance) * (1 + monthlyInterestRate)**12) / 12.0\n",
    "\n",
    "# print(upper_bound, lower_bound)\n",
    "\n",
    "# for m in range(int(lower_bound), int(upper_bound)):\n",
    "# while abs(upper_bound-lower_bound)>=epsilon:\n",
    "    \n",
    "m=(lower_bound + upper_bound) / 2\n",
    "while True:\n",
    "    if abs(upper_bound-lower_bound)>epsilon and abs(upper_bound-lower_bound)<balance:\n",
    "#         print('lower', lower_bound)\n",
    "#         print('upper', upper_bound)\n",
    "        \n",
    "        balance_temp = balance\n",
    "        m=(lower_bound + upper_bound) / 2\n",
    "#         print(\"m\", m)\n",
    "        for i in range(12):\n",
    "        #         lower_bound=lower_bound+increment\n",
    "        #         print(lower_bound)\n",
    "            minimumMonthlyPayment = m\n",
    "            monthlyUnpaidBalance = balance_temp-minimumMonthlyPayment\n",
    "            balance_temp = monthlyUnpaidBalance + (monthlyUnpaidBalance*monthlyInterestRate)\n",
    "        print(balance_temp, \"sf\")\n",
    "        if round(balance_temp,2)==0.0:\n",
    "            print('Lowest Payment:', round(m,2))\n",
    "            break \n",
    "        elif balance_temp>0:\n",
    "            lower_bound=m\n",
    "#             print('lower', lower_bound)\n",
    "    #         upper_bound+=increment\n",
    "    #         m = (lower_bound + upper_bound) / 2.0\n",
    "    #         print(lower_bound, upper_bound, m)\n",
    "        elif balance_temp<0:\n",
    "#             print('greater')\n",
    "            upper_bound=m\n",
    "#             print('upper', upper_bound)\n",
    "    #         upper_bound-=increment\n",
    "    #         m = (lower_bound + upper_bound) / 2.0\n",
    "    #         print(lower_bound, upper_bound, m)\n",
    "        \n",
    "    #     elif abs(upper_bound-lower_bound)>=epsilon\n",
    "    #         upper_bound-=increment\n",
    "    #     elif abs(upper_bound-lower_bound)<=epsilon:\n",
    "    #         print('Lowest Payment:', m)\n",
    "    #         break\n",
    "    else:\n",
    "        break\n",
    "\n",
    "# else:\n",
    "#     continue"
   ]
  },
  {
   "cell_type": "code",
   "execution_count": 76,
   "id": "81fef9cd",
   "metadata": {},
   "outputs": [
    {
     "data": {
      "text/plain": [
       "302.29970506872985"
      ]
     },
     "execution_count": 76,
     "metadata": {},
     "output_type": "execute_result"
    }
   ],
   "source": [
    "(1966.82 -1362.2205898625402)/2"
   ]
  },
  {
   "cell_type": "code",
   "execution_count": 30,
   "id": "b11b6b9d",
   "metadata": {},
   "outputs": [
    {
     "data": {
      "text/plain": [
       "-0.04"
      ]
     },
     "execution_count": 30,
     "metadata": {},
     "output_type": "execute_result"
    }
   ],
   "source": [
    "round(-0.03674241866225202,2)"
   ]
  },
  {
   "cell_type": "code",
   "execution_count": null,
   "id": "ff9cc1ed",
   "metadata": {},
   "outputs": [],
   "source": []
  },
  {
   "cell_type": "code",
   "execution_count": 2,
   "id": "f40e4e4f",
   "metadata": {},
   "outputs": [
    {
     "data": {
      "text/plain": [
       "11"
      ]
     },
     "execution_count": 2,
     "metadata": {},
     "output_type": "execute_result"
    }
   ],
   "source": [
    "def bar(x):\n",
    "    return x + 1\n",
    "\n",
    "def foo(x, y = 5):\n",
    "    return bar(y * 2)\n",
    "          \n",
    "foo(3)"
   ]
  },
  {
   "cell_type": "code",
   "execution_count": 3,
   "id": "149e26f1",
   "metadata": {},
   "outputs": [
    {
     "data": {
      "text/plain": [
       "1"
      ]
     },
     "execution_count": 3,
     "metadata": {},
     "output_type": "execute_result"
    }
   ],
   "source": [
    "def bar(x):\n",
    "    return x + 1\n",
    "\n",
    "def foo(x, y = 5):\n",
    "    return bar(y * 2)\n",
    "          \n",
    "foo(3, 0)"
   ]
  },
  {
   "cell_type": "code",
   "execution_count": 4,
   "id": "f692481e",
   "metadata": {},
   "outputs": [
    {
     "data": {
      "text/plain": [
       "3"
      ]
     },
     "execution_count": 4,
     "metadata": {},
     "output_type": "execute_result"
    }
   ],
   "source": [
    "def bar (z, x = 0):\n",
    "    return z + x\n",
    "\n",
    "def foo (x):\n",
    "    return bar(3)\n",
    "\n",
    "foo(5)\n",
    " "
   ]
  },
  {
   "cell_type": "code",
   "execution_count": 11,
   "id": "085cfb67",
   "metadata": {},
   "outputs": [],
   "source": [
    "def odd(x):\n",
    "    '''\n",
    "    x: int\n",
    "\n",
    "    returns: True if x is odd, False otherwise\n",
    "    '''\n",
    "    l = x%2 == 1\n",
    "    return l"
   ]
  },
  {
   "cell_type": "code",
   "execution_count": 13,
   "id": "219d8d15",
   "metadata": {},
   "outputs": [
    {
     "data": {
      "text/plain": [
       "False"
      ]
     },
     "execution_count": 13,
     "metadata": {},
     "output_type": "execute_result"
    }
   ],
   "source": [
    "odd(6)"
   ]
  },
  {
   "cell_type": "code",
   "execution_count": 3,
   "id": "ce56078a",
   "metadata": {},
   "outputs": [],
   "source": [
    "def iterPower(base, exp):\n",
    "    '''\n",
    "    base: int or float.\n",
    "    exp: int >= 0\n",
    " \n",
    "    returns: int or float, base^exp\n",
    "    '''\n",
    "    ans=base\n",
    "    if exp==0:\n",
    "        if base==0:\n",
    "            ans = 0\n",
    "        else:\n",
    "            ans = 1\n",
    "        \n",
    "    else:\n",
    "        for i in range(1,exp):\n",
    "            ans = ans*base\n",
    "    return ans"
   ]
  },
  {
   "cell_type": "code",
   "execution_count": 170,
   "id": "36320268",
   "metadata": {},
   "outputs": [
    {
     "name": "stdout",
     "output_type": "stream",
     "text": [
      "1\n",
      "3\n",
      "1\n",
      "9\n",
      "1\n",
      "3\n",
      "1\n"
     ]
    },
    {
     "data": {
      "text/plain": [
       "27"
      ]
     },
     "execution_count": 170,
     "metadata": {},
     "output_type": "execute_result"
    }
   ],
   "source": [
    "recurPower(3,3)"
   ]
  },
  {
   "cell_type": "code",
   "execution_count": 2,
   "id": "2e660d59",
   "metadata": {},
   "outputs": [],
   "source": [
    "def recurPower(base, exp):\n",
    "    if exp == 0:\n",
    "        return 1\n",
    "    print(recurPower(base, exp-1))\n",
    "#     print(base * recurPower(base, exp-1))\n",
    "    return base * recurPower(base, exp-1)"
   ]
  },
  {
   "cell_type": "code",
   "execution_count": 5,
   "id": "6ba37f3e",
   "metadata": {},
   "outputs": [
    {
     "data": {
      "text/plain": [
       "125"
      ]
     },
     "execution_count": 5,
     "metadata": {},
     "output_type": "execute_result"
    }
   ],
   "source": [
    "iterPower(5, 3)"
   ]
  },
  {
   "cell_type": "code",
   "execution_count": 150,
   "id": "1f4af973",
   "metadata": {},
   "outputs": [
    {
     "data": {
      "text/plain": [
       "1.34"
      ]
     },
     "execution_count": 150,
     "metadata": {},
     "output_type": "execute_result"
    }
   ],
   "source": [
    "iterPower(1.34, 1)"
   ]
  },
  {
   "cell_type": "code",
   "execution_count": 125,
   "id": "be1dfeb2",
   "metadata": {},
   "outputs": [],
   "source": [
    "def iterPower(base, exp):\n",
    "    '''\n",
    "    base: int or float.\n",
    "    exp: int >= 0\n",
    " \n",
    "    returns: int or float, base^exp\n",
    "    '''\n",
    "    ans=base\n",
    "    for i in range(0,exp-1):\n",
    "        ans = ans*base\n",
    "    return ans"
   ]
  },
  {
   "cell_type": "code",
   "execution_count": 128,
   "id": "749a2e09",
   "metadata": {},
   "outputs": [
    {
     "data": {
      "text/plain": [
       "5.95"
      ]
     },
     "execution_count": 128,
     "metadata": {},
     "output_type": "execute_result"
    }
   ],
   "source": [
    "iterPower(5.95, 1)"
   ]
  },
  {
   "cell_type": "code",
   "execution_count": 18,
   "id": "b26ce2bd",
   "metadata": {},
   "outputs": [],
   "source": [
    "def recurPower(base, exp):\n",
    "    '''\n",
    "    base: int or float.\n",
    "    exp: int >= 0\n",
    " \n",
    "    returns: int or float, base^exp\n",
    "    '''\n",
    "    #n+n(b-1)\n",
    "    if exp==0:\n",
    "        return 1\n",
    "    else:\n",
    "        return base * recurPower(base, exp-1)\n",
    "        \n"
   ]
  },
  {
   "cell_type": "code",
   "execution_count": 19,
   "id": "956baf50",
   "metadata": {},
   "outputs": [
    {
     "data": {
      "text/plain": [
       "125"
      ]
     },
     "execution_count": 19,
     "metadata": {},
     "output_type": "execute_result"
    }
   ],
   "source": [
    "recurPower(5,3)"
   ]
  },
  {
   "cell_type": "code",
   "execution_count": null,
   "id": "5d41d79c",
   "metadata": {},
   "outputs": [],
   "source": []
  },
  {
   "cell_type": "code",
   "execution_count": 10,
   "id": "f1893367",
   "metadata": {},
   "outputs": [],
   "source": [
    "def gcdIter(a, b):\n",
    "    '''\n",
    "    a, b: positive integers\n",
    "    \n",
    "    returns: a positive integer, the greatest common divisor of a & b.\n",
    "    '''\n",
    "    x=[]\n",
    "    for i in range(1,max(a,b)):\n",
    "        if a%i==0 and b%i==0:\n",
    "            x.append(i)\n",
    "        else:\n",
    "            pass\n",
    "    return max(x)"
   ]
  },
  {
   "cell_type": "code",
   "execution_count": 15,
   "id": "17728ff0",
   "metadata": {},
   "outputs": [
    {
     "data": {
      "text/plain": [
       "3"
      ]
     },
     "execution_count": 15,
     "metadata": {},
     "output_type": "execute_result"
    }
   ],
   "source": [
    "gcdIter(6,3)"
   ]
  },
  {
   "cell_type": "code",
   "execution_count": 26,
   "id": "0bc24d6b",
   "metadata": {},
   "outputs": [],
   "source": [
    "def gcdRecur(a, b):\n",
    "    '''\n",
    "    a, b: positive integers\n",
    "    \n",
    "    returns: a positive integer, the greatest common divisor of a & b.\n",
    "    '''\n",
    "    if b==0:\n",
    "        print(a)\n",
    "        return a\n",
    "    else:\n",
    "        return gcdRecur(b, a%b)\n",
    "        \n"
   ]
  },
  {
   "cell_type": "code",
   "execution_count": 29,
   "id": "1e88c260",
   "metadata": {},
   "outputs": [
    {
     "name": "stdout",
     "output_type": "stream",
     "text": [
      "5\n"
     ]
    },
    {
     "data": {
      "text/plain": [
       "5"
      ]
     },
     "execution_count": 29,
     "metadata": {},
     "output_type": "execute_result"
    }
   ],
   "source": [
    "gcdRecur(10,5)"
   ]
  },
  {
   "cell_type": "code",
   "execution_count": null,
   "id": "14b38851",
   "metadata": {},
   "outputs": [],
   "source": []
  },
  {
   "cell_type": "markdown",
   "id": "464cd59e",
   "metadata": {},
   "source": [
    "We can use the idea of bisection search to determine if a character is in a string, so long as the string is sorted in alphabetical order.\n",
    "\n",
    "First, test the middle character of a string against the character you're looking for (the \"test character\"). If they are the same, we are done - we've found the character we're looking for!\n",
    "\n",
    "If they're not the same, check if the test character is \"smaller\" than the middle character. If so, we need only consider the lower half of the string; otherwise, we only consider the upper half of the string. (Note that you can compare characters using Python's < function.)\n",
    "\n",
    "Implement the function isIn(char, aStr) which implements the above idea recursively to test if char is in aStr. char will be a single character and aStr will be a string that is in alphabetical order. The function should return a boolean value.\n",
    "\n",
    "As you design the function, think very carefully about what the base cases should be."
   ]
  },
  {
   "cell_type": "code",
   "execution_count": 60,
   "id": "2e92f4e1",
   "metadata": {},
   "outputs": [],
   "source": [
    "def isIn(char, aStr):\n",
    "    '''\n",
    "    char: a single character\n",
    "    aStr: an alphabetized string\n",
    "    \n",
    "    returns: True if char is in aStr; False otherwise\n",
    "    '''\n",
    "    \n",
    "    if len(aStr)>=1:\n",
    "        y = aStr[int(len(aStr)/2)]\n",
    "        y_index=int(len(aStr)/2)\n",
    "#         print(y)\n",
    "    else:\n",
    "        return False\n",
    "\n",
    "    \n",
    "    if y == char:\n",
    "    #if isIn() == True\n",
    "        return True\n",
    "    \n",
    "    elif y>char:\n",
    "        aStr=aStr[:y_index]\n",
    "        return isIn(char, aStr)\n",
    "    elif y<char:\n",
    "        aStr=aStr[y_index+1:]\n",
    "        return isIn(char, aStr) \n",
    "    elif len(aStr)==1:\n",
    "        return False\n",
    "    else:\n",
    "        return False"
   ]
  },
  {
   "cell_type": "code",
   "execution_count": 29,
   "id": "29467d4b",
   "metadata": {},
   "outputs": [
    {
     "data": {
      "text/plain": [
       "'d'"
      ]
     },
     "execution_count": 29,
     "metadata": {},
     "output_type": "execute_result"
    }
   ],
   "source": [
    "aStr='abcdfkl'\n",
    "# y = int(len(aStr)/2)\n",
    "y = aStr[int(len(aStr)/2)]\n",
    "y"
   ]
  },
  {
   "cell_type": "code",
   "execution_count": 30,
   "id": "0e29431e",
   "metadata": {},
   "outputs": [
    {
     "data": {
      "text/plain": [
       "'f'"
      ]
     },
     "execution_count": 30,
     "metadata": {},
     "output_type": "execute_result"
    }
   ],
   "source": [
    "aStr[4]"
   ]
  },
  {
   "cell_type": "code",
   "execution_count": 71,
   "id": "07790b9b",
   "metadata": {},
   "outputs": [
    {
     "data": {
      "text/plain": [
       "False"
      ]
     },
     "execution_count": 71,
     "metadata": {},
     "output_type": "execute_result"
    }
   ],
   "source": [
    "isIn('l', 'j')"
   ]
  },
  {
   "cell_type": "code",
   "execution_count": 66,
   "id": "39ef30bf",
   "metadata": {},
   "outputs": [],
   "source": [
    "def isIn(char, aStr):\n",
    "    '''\n",
    "    char: a single character\n",
    "    aStr: an alphabetized string\n",
    "    \n",
    "    returns: True if char is in aStr; False otherwise\n",
    "    '''\n",
    "    \n",
    "    if len(aStr)>=1:\n",
    "        y = aStr[int(len(aStr)/2)]\n",
    "        y_index=int(len(aStr)/2)\n",
    "#         print(y)\n",
    "    else:\n",
    "        return False\n",
    "\n",
    "    \n",
    "    if y == char:\n",
    "    #if isIn() == True\n",
    "        return True\n",
    "    \n",
    "    elif y>char:\n",
    "        aStr=aStr[:y_index]\n",
    "        return isIn(char, aStr)\n",
    "    elif y<char:\n",
    "        aStr=aStr[y_index+1:]\n",
    "        return isIn(char, aStr) \n",
    "\n"
   ]
  },
  {
   "cell_type": "code",
   "execution_count": 67,
   "id": "63b8b115",
   "metadata": {},
   "outputs": [],
   "source": [
    "def oddTuples(aTup):\n",
    "    '''\n",
    "    aTup: a tuple\n",
    "    \n",
    "    returns: tuple, every other element of aTup. \n",
    "    '''\n",
    "    counter=0\n",
    "    li=[]\n",
    "    for i in aTup:\n",
    "        counter+=1\n",
    "        if counter%2==1:\n",
    "            li.extend([i])\n",
    "            print('li',li)\n",
    "        else:\n",
    "            pass\n",
    "    return tuple(li)\n",
    "            "
   ]
  },
  {
   "cell_type": "code",
   "execution_count": 37,
   "id": "38fae358",
   "metadata": {},
   "outputs": [
    {
     "data": {
      "text/plain": [
       "(1, 2, (3, 'John', 4), 'Hi', 'a', 's', 'd')"
      ]
     },
     "execution_count": 37,
     "metadata": {},
     "output_type": "execute_result"
    }
   ],
   "source": [
    "x+tuple('asd')"
   ]
  },
  {
   "cell_type": "code",
   "execution_count": 53,
   "id": "5ac22aaa",
   "metadata": {},
   "outputs": [],
   "source": [
    "y=('I', 'am', 'a', 'test', 'tuple')"
   ]
  },
  {
   "cell_type": "code",
   "execution_count": 68,
   "id": "2971136c",
   "metadata": {},
   "outputs": [
    {
     "name": "stdout",
     "output_type": "stream",
     "text": [
      "I\n",
      "li ['I']\n",
      "a\n",
      "li ['I', 'a']\n",
      "tuple\n",
      "li ['I', 'a', 'tuple']\n"
     ]
    },
    {
     "data": {
      "text/plain": [
       "('I', 'a', 'tuple')"
      ]
     },
     "execution_count": 68,
     "metadata": {},
     "output_type": "execute_result"
    }
   ],
   "source": [
    "oddTuples(y)"
   ]
  },
  {
   "cell_type": "code",
   "execution_count": 73,
   "id": "79c8bfb2",
   "metadata": {},
   "outputs": [],
   "source": [
    "listA = [1, 4, 3, 0]"
   ]
  },
  {
   "cell_type": "code",
   "execution_count": 74,
   "id": "03f50e7b",
   "metadata": {},
   "outputs": [
    {
     "data": {
      "text/plain": [
       "<function list.sort>"
      ]
     },
     "execution_count": 74,
     "metadata": {},
     "output_type": "execute_result"
    }
   ],
   "source": [
    "listA.sort"
   ]
  },
  {
   "cell_type": "code",
   "execution_count": 75,
   "id": "e32fb3cd",
   "metadata": {},
   "outputs": [
    {
     "data": {
      "text/plain": [
       "0"
      ]
     },
     "execution_count": 75,
     "metadata": {},
     "output_type": "execute_result"
    }
   ],
   "source": [
    "listA.count('a')"
   ]
  },
  {
   "cell_type": "code",
   "execution_count": 76,
   "id": "f0f65df6",
   "metadata": {},
   "outputs": [],
   "source": [
    "listA.extend([4, 1, 6, 3, 4])"
   ]
  },
  {
   "cell_type": "code",
   "execution_count": 77,
   "id": "7aea0c48",
   "metadata": {},
   "outputs": [
    {
     "data": {
      "text/plain": [
       "[1, 4, 3, 0, 4, 1, 6, 3, 4]"
      ]
     },
     "execution_count": 77,
     "metadata": {},
     "output_type": "execute_result"
    }
   ],
   "source": [
    "listA"
   ]
  },
  {
   "cell_type": "code",
   "execution_count": 80,
   "id": "8d61e39c",
   "metadata": {},
   "outputs": [
    {
     "data": {
      "text/plain": [
       "1"
      ]
     },
     "execution_count": 80,
     "metadata": {},
     "output_type": "execute_result"
    }
   ],
   "source": [
    "listA.index(4)"
   ]
  },
  {
   "cell_type": "code",
   "execution_count": 1,
   "id": "9cf31a96",
   "metadata": {},
   "outputs": [],
   "source": [
    "animals = { 'a': ['aardvark'], 'b': ['baboon'], 'c': ['coati']}\n",
    "\n",
    "animals['d'] = ['donkey']\n",
    "animals['d'].append('dog')\n",
    "animals['d'].append('dingo')"
   ]
  },
  {
   "cell_type": "code",
   "execution_count": 2,
   "id": "d4a19eba",
   "metadata": {},
   "outputs": [],
   "source": [
    "def biggest(aDict):\n",
    "    '''\n",
    "    aDict: A dictionary, where all the values are lists.\n",
    "\n",
    "    returns: The key with the largest number of values associated with it\n",
    "    '''\n",
    "    li={}\n",
    "    max_=0\n",
    "    for key, value in aDict.items():\n",
    "        li[key]=len(value)\n",
    "    for key, value in li.items():\n",
    "        if value>max_:\n",
    "            max_=value\n",
    "            max_key=key\n",
    "        else:\n",
    "            continue\n",
    "    return max_key\n"
   ]
  },
  {
   "cell_type": "code",
   "execution_count": 3,
   "id": "f055d3f2",
   "metadata": {},
   "outputs": [
    {
     "data": {
      "text/plain": [
       "'d'"
      ]
     },
     "execution_count": 3,
     "metadata": {},
     "output_type": "execute_result"
    }
   ],
   "source": [
    "biggest(animals)"
   ]
  }
 ],
 "metadata": {
  "kernelspec": {
   "display_name": "Python 3",
   "language": "python",
   "name": "python3"
  },
  "language_info": {
   "codemirror_mode": {
    "name": "ipython",
    "version": 3
   },
   "file_extension": ".py",
   "mimetype": "text/x-python",
   "name": "python",
   "nbconvert_exporter": "python",
   "pygments_lexer": "ipython3",
   "version": "3.6.8"
  }
 },
 "nbformat": 4,
 "nbformat_minor": 5
}
