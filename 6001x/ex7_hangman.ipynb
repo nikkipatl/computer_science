{
 "cells": [
  {
   "cell_type": "markdown",
   "id": "7d1ca295-845a-4ba6-80a3-fbc345477773",
   "metadata": {},
   "source": [
    "# Hangman"
   ]
  },
  {
   "cell_type": "code",
   "execution_count": 2,
   "id": "9f79554e",
   "metadata": {},
   "outputs": [],
   "source": [
    "def isWordGuessed(secretWord, lettersGuessed):\n",
    "    '''\n",
    "    secretWord: string, the word the user is guessing\n",
    "    lettersGuessed: list, what letters have been guessed so far\n",
    "    returns: boolean, True if all the letters of secretWord are in lettersGuessed;\n",
    "      False otherwise\n",
    "    '''\n",
    "    secretWord_letters = [i for i in secretWord]\n",
    "    secretWord_letters = set(secretWord_letters)\n",
    "    secretWord_letters=list(secretWord_letters)\n",
    "    for i in lettersGuessed:\n",
    "        if i in secretWord_letters:\n",
    "            secretWord_letters.remove(i)\n",
    "        else:\n",
    "            continue\n",
    "    if len(secretWord_letters)==0:\n",
    "        return True\n",
    "    else:\n",
    "        return False\n",
    "        "
   ]
  },
  {
   "cell_type": "code",
   "execution_count": 8,
   "id": "250b91a8",
   "metadata": {},
   "outputs": [
    {
     "data": {
      "text/plain": [
       "True"
      ]
     },
     "execution_count": 8,
     "metadata": {},
     "output_type": "execute_result"
    }
   ],
   "source": [
    "isWordGuessed('help', ['h','l','p','g','e'])"
   ]
  },
  {
   "cell_type": "code",
   "execution_count": 1,
   "id": "26a745d7",
   "metadata": {},
   "outputs": [],
   "source": [
    "def getGuessedWord(secretWord, lettersGuessed):\n",
    "    '''\n",
    "    secretWord: string, the word the user is guessing\n",
    "    lettersGuessed: list, what letters have been guessed so far\n",
    "    returns: string, comprised of letters and underscores that represents\n",
    "      what letters in secretWord have been guessed so far.\n",
    "    '''\n",
    "    secretWord_letters = [i for i in secretWord]\n",
    "    for i in lettersGuessed:\n",
    "        if i in secretWord_letters:\n",
    "            continue\n",
    "        else:\n",
    "            secretWord =secretWord.replace(i,\"_\")\n",
    "        \n",
    "    return secretWord"
   ]
  },
  {
   "cell_type": "code",
   "execution_count": 28,
   "id": "252dfddc",
   "metadata": {},
   "outputs": [
    {
     "data": {
      "text/plain": [
       "'help'"
      ]
     },
     "execution_count": 28,
     "metadata": {},
     "output_type": "execute_result"
    }
   ],
   "source": [
    "getGuessedWord('help', ['h','k','p','g','e'])"
   ]
  },
  {
   "cell_type": "code",
   "execution_count": 3,
   "id": "5dfcfd16",
   "metadata": {},
   "outputs": [],
   "source": [
    "def getGuessedWord(secretWord, lettersGuessed):\n",
    "    '''\n",
    "    secretWord: string, the word the user is guessing\n",
    "    lettersGuessed: list, what letters have been guessed so far\n",
    "    returns: string, comprised of letters and underscores that represents\n",
    "      what letters in secretWord have been guessed so far.\n",
    "    '''\n",
    "    secretWord_letters = [i for i in secretWord]\n",
    "    \n",
    "    for i in secretWord:\n",
    "        if i in lettersGuessed:\n",
    "            continue\n",
    "        else:\n",
    "            secretWord =secretWord.replace(i,\" _ \")\n",
    "        \n",
    "    return secretWord"
   ]
  },
  {
   "cell_type": "code",
   "execution_count": 18,
   "id": "0d8e87cb",
   "metadata": {},
   "outputs": [
    {
     "data": {
      "text/plain": [
       "'he _ p'"
      ]
     },
     "execution_count": 18,
     "metadata": {},
     "output_type": "execute_result"
    }
   ],
   "source": [
    "getGuessedWord('help', ['h','k','p','g','e'])"
   ]
  },
  {
   "cell_type": "code",
   "execution_count": 4,
   "id": "0f328edc",
   "metadata": {},
   "outputs": [
    {
     "name": "stdout",
     "output_type": "stream",
     "text": [
      "abcdefghijklmnopqrstuvwxyz\n"
     ]
    }
   ],
   "source": [
    "import string\n",
    "print(string.ascii_lowercase)\n",
    "# abcdefghijklmnopqrstuvwxyz"
   ]
  },
  {
   "cell_type": "code",
   "execution_count": 5,
   "id": "04897ca1",
   "metadata": {},
   "outputs": [],
   "source": [
    "def getAvailableLetters(lettersGuessed):\n",
    "    '''\n",
    "    lettersGuessed: list, what letters have been guessed so far\n",
    "    returns: string, comprised of letters that represents what letters have not\n",
    "      yet been guessed.\n",
    "    '''\n",
    "    avail = string.ascii_lowercase\n",
    "    return \"\".join([i for i in avail if i not in lettersGuessed])"
   ]
  },
  {
   "cell_type": "code",
   "execution_count": 40,
   "id": "0cd0bbd1",
   "metadata": {},
   "outputs": [
    {
     "data": {
      "text/plain": [
       "21"
      ]
     },
     "execution_count": 40,
     "metadata": {},
     "output_type": "execute_result"
    }
   ],
   "source": [
    "len(getAvailableLetters(['h','k','p','g','e']))"
   ]
  },
  {
   "cell_type": "code",
   "execution_count": 41,
   "id": "389ddb2e",
   "metadata": {},
   "outputs": [
    {
     "data": {
      "text/plain": [
       "'abcdfijlmnoqrstuvwxyz'"
      ]
     },
     "execution_count": 41,
     "metadata": {},
     "output_type": "execute_result"
    }
   ],
   "source": [
    "getAvailableLetters(['h','k','p','g','e'])"
   ]
  },
  {
   "cell_type": "code",
   "execution_count": 6,
   "id": "12c1e411",
   "metadata": {},
   "outputs": [
    {
     "name": "stdout",
     "output_type": "stream",
     "text": [
      "Loading word list from file...\n",
      "   55909 words loaded.\n"
     ]
    }
   ],
   "source": [
    "import random\n",
    "\n",
    "WORDLIST_FILENAME = \"words.txt\"\n",
    "\n",
    "def loadWords():\n",
    "    \"\"\"\n",
    "    Returns a list of valid words. Words are strings of lowercase letters.\n",
    "    \n",
    "    Depending on the size of the word list, this function may\n",
    "    take a while to finish.\n",
    "    \"\"\"\n",
    "    print(\"Loading word list from file...\")\n",
    "    # inFile: file\n",
    "    inFile = open(WORDLIST_FILENAME, 'r')\n",
    "    # line: string\n",
    "    line = inFile.readline()\n",
    "    # wordlist: list of strings\n",
    "    wordlist = line.split()\n",
    "    print(\"  \", len(wordlist), \"words loaded.\")\n",
    "    return wordlist\n",
    "\n",
    "def chooseWord(wordlist):\n",
    "    \"\"\"\n",
    "    wordlist (list): list of words (strings)\n",
    "\n",
    "    Returns a word from wordlist at random\n",
    "    \"\"\"\n",
    "    return random.choice(wordlist)\n",
    "\n",
    "# end of helper code\n",
    "# -----------------------------------\n",
    "\n",
    "# Load the list of words into the variable wordlist\n",
    "# so that it can be accessed from anywhere in the program\n",
    "wordlist = loadWords()\n",
    "\n",
    "# guess =chooseWord()\n",
    "def lowerCaseGuess(guess):\n",
    "    guessInLowerCase = guess.lower()\n",
    "    return guessInLowerCase\n",
    "\n",
    "def blanks(guess):\n",
    "    guess_blanks=''\n",
    "    for i in guess:\n",
    "        guess_blanks+= \" _ \"\n",
    "    return guess_blanks\n"
   ]
  },
  {
   "cell_type": "code",
   "execution_count": 50,
   "id": "6f222add",
   "metadata": {},
   "outputs": [
    {
     "data": {
      "text/plain": [
       "'_ _ _ _ '"
      ]
     },
     "execution_count": 50,
     "metadata": {},
     "output_type": "execute_result"
    }
   ],
   "source": [
    "blanks('ukkk')"
   ]
  },
  {
   "cell_type": "markdown",
   "id": "bd0fc3d9",
   "metadata": {},
   "source": [
    "guess = 'A'\n",
    "guessInLowerCase = guess.lower()'\\'\n",
    "\n",
    "Welcome to the game Hangman!\n",
    "\tI am thinking of a word that is 4 letters long.\n",
    "\t-------------\n",
    "\tYou have 8 guesses left.\n",
    "\tAvailable letters: abcdefghijklmnopqrstuvwxyz\n",
    "\tPlease guess a letter: a\n",
    "\tGood guess: _ a_ _\n",
    "\t------------\n",
    "\tYou have 8 guesses left.\n",
    "\tAvailable letters: bcdefghijklmnopqrstuvwxyz\n",
    "\tPlease guess a letter: a\n",
    "\tOops! You've already guessed that letter: _ a_ _\n",
    "\t------------\n",
    "\tYou have 8 guesses left.\n",
    "\tAvailable letters: bcdefghijklmnopqrstuvwxyz\n",
    "\tPlease guess a letter: s\n",
    "\tOops! That letter is not in my word: _ a_ _\n",
    "\t------------\n",
    "\tYou have 7 guesses left.\n",
    "\tAvailable letters: bcdefghijklmnopqrtuvwxyz\n",
    "\tPlease guess a letter: t\n",
    "\tGood guess: ta_ t\n",
    "\t------------\n",
    "\tYou have 7 guesses left.\n",
    "\tAvailable letters: bcdefghijklmnopqruvwxyz\n",
    "\tPlease guess a letter: r\n",
    "\tOops! That letter is not in my word: ta_ t\n",
    "\t------------\n",
    "\tYou have 6 guesses left.\n",
    "\tAvailable letters: bcdefghijklmnopquvwxyz\n",
    "\tPlease guess a letter: m\n",
    "\tOops! That letter is not in my word: ta_ tl helper functions if you need them!\n",
    "\n",
    "There are four important pieces of information you may wish to store:\n",
    "\n",
    "secretWord: The word to guess.\n",
    "lettersGuessed: The letters that have been guessed so far.'\\'\n",
    "\n",
    "mistakesMade: The number of incorrect guesses made so far.'\\'\n",
    "\n",
    "availableLetters: The letters that may still be guessed. Every time a player guesses a letter, the guessed letter must be removed from availableLetters (and if they guess a letter that is not in availableLetters, you should print a message telling them they've already guessed that - so try again!)."
   ]
  },
  {
   "cell_type": "code",
   "execution_count": 7,
   "id": "f71a8a1e",
   "metadata": {},
   "outputs": [],
   "source": [
    "def hangman(secretWord):\n",
    "    '''\n",
    "    secretWord: string, the secret word to guess.\n",
    "\n",
    "    Starts up an interactive game of Hangman.\n",
    "\n",
    "    * At the start of the game, let the user know how many \n",
    "      letters the secretWord contains.\n",
    "\n",
    "    * Ask the user to supply one guess (i.e. letter) per round.\n",
    "\n",
    "    * The user should receive feedback immediately after each guess \n",
    "      about whether their guess appears in the computers word.\n",
    "\n",
    "    * After each round, you should also display to the user the \n",
    "      partially guessed word so far, as well as letters that the \n",
    "      user has not yet guessed.\n",
    "\n",
    "    Follows the other limitations detailed in the problem write-up.\n",
    "    '''\n",
    "    print(\"Welcome to the game Hangman!\")\n",
    "#     secretWord = lowerCaseGuess('nikki')\n",
    "    lettersGuessed = []\n",
    "    l = len(secretWord)\n",
    "    lines = \"-----------\"\n",
    "    #guesses left\n",
    "    n=8\n",
    "    \n",
    "    print(\"I am thinking of a word that is\",l,\"letters long.\")\n",
    "    print(lines)\n",
    "    while n>0:    \n",
    "        if n==8:\n",
    "            print(\"You have\",n,\"guesses left.\")\n",
    "            print(\"Available letters:\",getAvailableLetters(lettersGuessed))\n",
    "            guess = lowerCaseGuess(input(\"Please guess a letter:\"))\n",
    "\n",
    "            if guess in lettersGuessed:\n",
    "                print(\"Oops! You've already guessed that letter:\",getGuessedWord(secretWord,lettersGuessed))\n",
    "                print(lines)\n",
    "                \n",
    "            else:\n",
    "                lettersGuessed+=guess\n",
    "                if guess in secretWord:\n",
    "                    print(\"Good guess:\",getGuessedWord(secretWord,lettersGuessed))\n",
    "                    print(lines)\n",
    "\n",
    "                    if isWordGuessed(secretWord, lettersGuessed) == True:\n",
    "                        print('Congratulations, you won!')\n",
    "                        break\n",
    "                else:\n",
    "                    print('Oops! That letter is not in my word:',getGuessedWord(secretWord,lettersGuessed))\n",
    "                    print(lines)\n",
    "                    n-=1\n",
    "\n",
    "\n",
    "        else:\n",
    "            print(\"You have\",n,\"guesses left.\")\n",
    "            print(\"Available letters:\", getAvailableLetters(lettersGuessed))\n",
    "            guess = lowerCaseGuess(input(\"Please guess a letter:\"))\n",
    "\n",
    "            if guess in lettersGuessed:\n",
    "                print(\"Oops! You've already guessed that letter:\",getGuessedWord(secretWord,lettersGuessed))\n",
    "                print(lines)\n",
    "\n",
    "            else:\n",
    "                lettersGuessed+=guess\n",
    "                if guess in secretWord:\n",
    "                    print(\"Good guess:\",getGuessedWord(secretWord,lettersGuessed))\n",
    "                    print(lines)\n",
    "\n",
    "                    if isWordGuessed(secretWord, lettersGuessed) == True:\n",
    "                        print('Congratulations, you won!')\n",
    "                        break\n",
    "                else:\n",
    "                    print('Oops! That letter is not in my word:',getGuessedWord(secretWord,lettersGuessed))\n",
    "                    print(lines)\n",
    "                    n-=1\n",
    "\n",
    "    else:\n",
    "        print('Sorry, you ran out of guesses. The word was',secretWord)"
   ]
  },
  {
   "cell_type": "code",
   "execution_count": 10,
   "id": "fb309ca5",
   "metadata": {
    "tags": []
   },
   "outputs": [],
   "source": [
    "secret_ = 'roleplay'"
   ]
  },
  {
   "cell_type": "code",
   "execution_count": 12,
   "id": "3a778be3",
   "metadata": {},
   "outputs": [
    {
     "name": "stdout",
     "output_type": "stream",
     "text": [
      "Welcome to the game Hangman!\n",
      "I am thinking of a word that is 8 letters long.\n",
      "-----------\n",
      "You have 8 guesses left.\n",
      "Available letters: abcdefghijklmnopqrstuvwxyz\n"
     ]
    },
    {
     "name": "stdin",
     "output_type": "stream",
     "text": [
      "Please guess a letter: a\n"
     ]
    },
    {
     "name": "stdout",
     "output_type": "stream",
     "text": [
      "Good guess:  _  _  _  _  _  _ a _ \n",
      "-----------\n",
      "You have 8 guesses left.\n",
      "Available letters: bcdefghijklmnopqrstuvwxyz\n"
     ]
    },
    {
     "name": "stdin",
     "output_type": "stream",
     "text": [
      "Please guess a letter: e\n"
     ]
    },
    {
     "name": "stdout",
     "output_type": "stream",
     "text": [
      "Good guess:  _  _  _ e _  _ a _ \n",
      "-----------\n",
      "You have 8 guesses left.\n",
      "Available letters: bcdfghijklmnopqrstuvwxyz\n"
     ]
    },
    {
     "name": "stdin",
     "output_type": "stream",
     "text": [
      "Please guess a letter: t\n"
     ]
    },
    {
     "name": "stdout",
     "output_type": "stream",
     "text": [
      "Oops! That letter is not in my word:  _  _  _ e _  _ a _ \n",
      "-----------\n",
      "You have 7 guesses left.\n",
      "Available letters: bcdfghijklmnopqrsuvwxyz\n"
     ]
    },
    {
     "name": "stdin",
     "output_type": "stream",
     "text": [
      "Please guess a letter: s\n"
     ]
    },
    {
     "name": "stdout",
     "output_type": "stream",
     "text": [
      "Oops! That letter is not in my word:  _  _  _ e _  _ a _ \n",
      "-----------\n",
      "You have 6 guesses left.\n",
      "Available letters: bcdfghijklmnopqruvwxyz\n"
     ]
    },
    {
     "name": "stdin",
     "output_type": "stream",
     "text": [
      "Please guess a letter: r\n"
     ]
    },
    {
     "name": "stdout",
     "output_type": "stream",
     "text": [
      "Good guess: r _  _ e _  _ a _ \n",
      "-----------\n",
      "You have 6 guesses left.\n",
      "Available letters: bcdfghijklmnopquvwxyz\n"
     ]
    },
    {
     "name": "stdin",
     "output_type": "stream",
     "text": [
      "Please guess a letter: b\n"
     ]
    },
    {
     "name": "stdout",
     "output_type": "stream",
     "text": [
      "Oops! That letter is not in my word: r _  _ e _  _ a _ \n",
      "-----------\n",
      "You have 5 guesses left.\n",
      "Available letters: cdfghijklmnopquvwxyz\n"
     ]
    },
    {
     "name": "stdin",
     "output_type": "stream",
     "text": [
      "Please guess a letter: c\n"
     ]
    },
    {
     "name": "stdout",
     "output_type": "stream",
     "text": [
      "Oops! That letter is not in my word: r _  _ e _  _ a _ \n",
      "-----------\n",
      "You have 4 guesses left.\n",
      "Available letters: dfghijklmnopquvwxyz\n"
     ]
    },
    {
     "name": "stdin",
     "output_type": "stream",
     "text": [
      "Please guess a letter: l\n"
     ]
    },
    {
     "name": "stdout",
     "output_type": "stream",
     "text": [
      "Good guess: r _ le _ la _ \n",
      "-----------\n",
      "You have 4 guesses left.\n",
      "Available letters: dfghijkmnopquvwxyz\n"
     ]
    },
    {
     "name": "stdin",
     "output_type": "stream",
     "text": [
      "Please guess a letter: i\n"
     ]
    },
    {
     "name": "stdout",
     "output_type": "stream",
     "text": [
      "Oops! That letter is not in my word: r _ le _ la _ \n",
      "-----------\n",
      "You have 3 guesses left.\n",
      "Available letters: dfghjkmnopquvwxyz\n"
     ]
    },
    {
     "name": "stdin",
     "output_type": "stream",
     "text": [
      "Please guess a letter: o\n"
     ]
    },
    {
     "name": "stdout",
     "output_type": "stream",
     "text": [
      "Good guess: role _ la _ \n",
      "-----------\n",
      "You have 3 guesses left.\n",
      "Available letters: dfghjkmnpquvwxyz\n"
     ]
    },
    {
     "name": "stdin",
     "output_type": "stream",
     "text": [
      "Please guess a letter: p\n"
     ]
    },
    {
     "name": "stdout",
     "output_type": "stream",
     "text": [
      "Good guess: rolepla _ \n",
      "-----------\n",
      "You have 3 guesses left.\n",
      "Available letters: dfghjkmnquvwxyz\n"
     ]
    },
    {
     "name": "stdin",
     "output_type": "stream",
     "text": [
      "Please guess a letter: y\n"
     ]
    },
    {
     "name": "stdout",
     "output_type": "stream",
     "text": [
      "Good guess: roleplay\n",
      "-----------\n",
      "Congratulations, you won!\n"
     ]
    }
   ],
   "source": [
    "# hangman(chooseWord(wordlist))\n",
    "hangman(secret_)"
   ]
  },
  {
   "cell_type": "code",
   "execution_count": 179,
   "id": "26efc095",
   "metadata": {},
   "outputs": [
    {
     "name": "stdout",
     "output_type": "stream",
     "text": [
      "Loading word list from file...\n",
      "   55909 words loaded.\n"
     ]
    },
    {
     "data": {
      "text/plain": [
       "'ashes'"
      ]
     },
     "execution_count": 179,
     "metadata": {},
     "output_type": "execute_result"
    }
   ],
   "source": [
    "wordlist = loadWords()\n",
    "random.choice(wordlist)"
   ]
  },
  {
   "cell_type": "code",
   "execution_count": null,
   "id": "95c62cad",
   "metadata": {},
   "outputs": [],
   "source": []
  }
 ],
 "metadata": {
  "kernelspec": {
   "display_name": "Python 3",
   "language": "python",
   "name": "python3"
  },
  "language_info": {
   "codemirror_mode": {
    "name": "ipython",
    "version": 3
   },
   "file_extension": ".py",
   "mimetype": "text/x-python",
   "name": "python",
   "nbconvert_exporter": "python",
   "pygments_lexer": "ipython3",
   "version": "3.6.8"
  }
 },
 "nbformat": 4,
 "nbformat_minor": 5
}
