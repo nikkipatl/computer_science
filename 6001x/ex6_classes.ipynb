{
 "cells": [
  {
   "cell_type": "markdown",
   "id": "ef05154c",
   "metadata": {},
   "source": [
    "Write a function, called McNuggets that takes one argument, n, and returns True if it is possible to buy a combination of 6, 9 and 20 pack units such that the total number of McNuggets equals n, and otherwise returns False. Hint: use a guess and check approach."
   ]
  },
  {
   "cell_type": "markdown",
   "id": "9d0b4640",
   "metadata": {},
   "source": [
    "6a + 9b + 20c = n"
   ]
  },
  {
   "cell_type": "code",
   "execution_count": 178,
   "id": "d465aac7",
   "metadata": {},
   "outputs": [],
   "source": [
    "def McNuggets(n):\n",
    "    \"\"\"\n",
    "    n is an int\n",
    "\n",
    "    Returns True if some integer combination of 6, 9 and 20 equals n\n",
    "    Otherwise returns False.\n",
    "    \"\"\"\n",
    "    \n",
    "#     if n==0:\n",
    "#         return False\n",
    "#     elif n%6==0:\n",
    "#         return True\n",
    "#     elif n%9==0:\n",
    "#         return True\n",
    "#     elif n%20==0:\n",
    "#         return True\n",
    "    \n",
    "#     elif n%15==0:\n",
    "#         return True\n",
    "#     elif n%26==0:\n",
    "#         return True\n",
    "#     elif n%29==0:\n",
    "#         return True\n",
    "    \n",
    "#     elif n%35==0:\n",
    "#         return True\n",
    "\n",
    "    for i in range(n):\n",
    "        if 6*i +9*i +20*i==n:\n",
    "            print('6*i +9*i +20*i')\n",
    "            return True\n",
    "        for j in range(n):\n",
    "            if 6*i +9*j +20*i==n:\n",
    "                print(6*i +9*j +20*i)\n",
    "                return True\n",
    "            elif 6*i +9*j +20*j==n:\n",
    "                print('6*i +9*j +20*j')\n",
    "                return True\n",
    "\n",
    "            for k in range(n):\n",
    "                if 6*i +9*j +20*k==n:\n",
    "                    print(i,j,k)\n",
    "                    print('6*i +9*j +20*k')\n",
    "                    return True\n",
    "                if 6*j +9*i +20*k==n:\n",
    "                    print('6*j +9*i +20*k')\n",
    "                    return True\n",
    "                if 6*k +9*i +20*j==n:\n",
    "                    print('6*k +9*i +20*j')\n",
    "                    return True\n",
    "\n",
    "    else:\n",
    "        return False"
   ]
  },
  {
   "cell_type": "code",
   "execution_count": 184,
   "id": "90f5bff7",
   "metadata": {},
   "outputs": [],
   "source": [
    "def McNuggets(n):\n",
    "    \"\"\"\n",
    "    n is an int\n",
    "\n",
    "    Returns True if some integer combination of 6, 9 and 20 equals n\n",
    "    Otherwise returns False.\n",
    "    \"\"\"\n",
    "\n",
    "    for i in range(n):\n",
    "        if 6*i +9*i +20*i==n:\n",
    "\n",
    "            return True\n",
    "        for j in range(n):\n",
    "            if 6*i +9*j +20*i==n:\n",
    "\n",
    "                return True\n",
    "            elif 6*i +9*j +20*j==n:\n",
    "\n",
    "                return True\n",
    "\n",
    "            for k in range(n):\n",
    "                if 6*i +9*j +20*k==n:\n",
    "\n",
    "                    return True\n",
    "                if 6*j +9*i +20*k==n:\n",
    "\n",
    "                    return True\n",
    "                if 6*k +9*i +20*j==n:\n",
    "\n",
    "                    return True\n",
    "\n",
    "    else:\n",
    "        return False"
   ]
  },
  {
   "cell_type": "code",
   "execution_count": 185,
   "id": "1ca54456",
   "metadata": {},
   "outputs": [
    {
     "data": {
      "text/plain": [
       "True"
      ]
     },
     "execution_count": 185,
     "metadata": {},
     "output_type": "execute_result"
    }
   ],
   "source": [
    "McNuggets(3453)"
   ]
  },
  {
   "cell_type": "markdown",
   "id": "28d4dfc7",
   "metadata": {},
   "source": [
    "For example, if\n",
    "\n",
    "largest_odd_times([2,2,4,4]) returns None\n",
    "largest_odd_times([3,9,5,3,5,3]) returns 9"
   ]
  },
  {
   "cell_type": "code",
   "execution_count": 15,
   "id": "70751989",
   "metadata": {},
   "outputs": [],
   "source": [
    "def largest_odd_times(L):\n",
    "    \"\"\" Assumes L is a non-empty list of ints\n",
    "        Returns the largest element of L that occurs an odd number \n",
    "        of times in L. If no such element exists, returns None \"\"\"\n",
    "    max_odd=0\n",
    "    \n",
    "    for i in L:\n",
    "#         print(i)\n",
    "        if i%2!=0:\n",
    "            if i>max_odd:\n",
    "                max_odd=i\n",
    "    \n",
    "    if max_odd>0:\n",
    "        return max_odd\n",
    "    else:\n",
    "        return None"
   ]
  },
  {
   "cell_type": "code",
   "execution_count": 16,
   "id": "b7b704e1",
   "metadata": {},
   "outputs": [],
   "source": [
    "largest_odd_times([2,2,4,4])"
   ]
  },
  {
   "cell_type": "code",
   "execution_count": 17,
   "id": "bf90e6c1",
   "metadata": {},
   "outputs": [
    {
     "data": {
      "text/plain": [
       "9"
      ]
     },
     "execution_count": 17,
     "metadata": {},
     "output_type": "execute_result"
    }
   ],
   "source": [
    "largest_odd_times([3,9,5,3,5,3])"
   ]
  },
  {
   "cell_type": "code",
   "execution_count": null,
   "id": "fcbcfca2",
   "metadata": {},
   "outputs": [],
   "source": []
  },
  {
   "cell_type": "code",
   "execution_count": 30,
   "id": "ac6c53b2",
   "metadata": {},
   "outputs": [],
   "source": [
    "l = [3,9,5,3,5,3]"
   ]
  },
  {
   "cell_type": "code",
   "execution_count": 21,
   "id": "1824ff8e",
   "metadata": {},
   "outputs": [
    {
     "data": {
      "text/plain": [
       "{3, 5, 9}"
      ]
     },
     "execution_count": 21,
     "metadata": {},
     "output_type": "execute_result"
    }
   ],
   "source": [
    "set(l)"
   ]
  },
  {
   "cell_type": "code",
   "execution_count": 29,
   "id": "b8ddcb6d",
   "metadata": {},
   "outputs": [
    {
     "data": {
      "text/plain": [
       "[9, 5, 3, 5, 3]"
      ]
     },
     "execution_count": 29,
     "metadata": {},
     "output_type": "execute_result"
    }
   ],
   "source": [
    "l.remove(3)\n",
    "l"
   ]
  },
  {
   "cell_type": "code",
   "execution_count": 78,
   "id": "fbf18287",
   "metadata": {},
   "outputs": [],
   "source": [
    "def largest_odd_times(L):\n",
    "    \"\"\" Assumes L is a non-empty list of ints\n",
    "        Returns the largest element of L that occurs an odd number \n",
    "        of times in L. If no such element exists, returns None \"\"\"\n",
    "#     l = [3,9,5,3,5,3]\n",
    "\n",
    "\n",
    "    dict_=dict()\n",
    "\n",
    "    set_ = set(L)\n",
    "\n",
    "\n",
    "    for s in set(L):\n",
    "        dict_[s]=0\n",
    "\n",
    "\n",
    "    for i in dict_.keys():\n",
    "\n",
    "        num=0\n",
    "        while i in L:\n",
    "            L.remove(i)\n",
    "            num+=1\n",
    "        dict_[i]=num\n",
    "\n",
    "\n",
    "    \n",
    "    max_odd_v=0\n",
    "    max_odd_k=0\n",
    "    for k,v in dict_.items():\n",
    "        if v%2==0:\n",
    "            dict_[k]=0\n",
    "        else:\n",
    "\n",
    "            if k>max_odd_k:\n",
    "\n",
    "                max_odd_v=v\n",
    "                max_odd_k=k\n",
    "\n",
    "    if max_odd_k>0:\n",
    "        return max_odd_k\n",
    "    else:\n",
    "        return None"
   ]
  },
  {
   "cell_type": "code",
   "execution_count": 79,
   "id": "32b58885",
   "metadata": {},
   "outputs": [
    {
     "data": {
      "text/plain": [
       "4"
      ]
     },
     "execution_count": 79,
     "metadata": {},
     "output_type": "execute_result"
    }
   ],
   "source": [
    "l =[2, 4, 5, 4, 5, 4, 2, 2]\n",
    "largest_odd_times(l)"
   ]
  },
  {
   "cell_type": "code",
   "execution_count": null,
   "id": "a94ae1c6",
   "metadata": {},
   "outputs": [],
   "source": [
    "def largest_odd_times(L):\n",
    "    \"\"\" Assumes L is a non-empty list of ints\n",
    "        Returns the largest element of L that occurs an odd number \n",
    "        of times in L. If no such element exists, returns None \"\"\"\n",
    "    dict_=dict()\n",
    "    \n",
    "    dict_.keys = set(L)\n",
    "    \n",
    "    print(dict_)\n",
    "    \n",
    "    for i in dict_.keys:\n",
    "#         print(i)\n",
    "        num=1\n",
    "        while i in L:\n",
    "            L.remove(i)\n",
    "            num+=1\n",
    "    \n",
    "        if i%2!=0:\n",
    "            if i>max_odd:\n",
    "                max_odd=i\n",
    "    \n",
    "    if max_odd>0:\n",
    "        return max_odd\n",
    "    else:\n",
    "        return None"
   ]
  },
  {
   "cell_type": "code",
   "execution_count": null,
   "id": "f9535f9b",
   "metadata": {},
   "outputs": [],
   "source": []
  },
  {
   "cell_type": "markdown",
   "id": "47a46bf4",
   "metadata": {},
   "source": [
    "cipher(\"abcd\", \"dcba\", \"dab\") returns (order of entries in dictionary may not be the same) ({'a':'d', 'b': 'c', 'd': 'a', 'c': 'b'}, 'adc')"
   ]
  },
  {
   "cell_type": "code",
   "execution_count": 90,
   "id": "b9758aaa",
   "metadata": {},
   "outputs": [],
   "source": [
    "def cipher(map_from, map_to, code):\n",
    "    \"\"\" map_from, map_to: strings where each contain \n",
    "                          N unique lowercase letters. \n",
    "        code: string (assume it only contains letters also in map_from)\n",
    "        Returns a tuple of (key_code, decoded).\n",
    "        key_code is a dictionary with N keys mapping str to str where \n",
    "        each key is a letter in map_from at index i and the corresponding \n",
    "        value is the letter in map_to at index i. \n",
    "        decoded is a string that contains the decoded version \n",
    "        of code using the key_code mapping. \"\"\"\n",
    "    dict_=dict()\n",
    "\n",
    "    for i, j in zip(map_from, map_to):\n",
    "        dict_[i]=j\n",
    "\n",
    "    #decode\n",
    "    decoded=''\n",
    "    for letter in code:\n",
    "        decoded+=(dict_[letter])\n",
    "\n",
    "    return (dict_, decoded)\n"
   ]
  },
  {
   "cell_type": "code",
   "execution_count": 91,
   "id": "a96ae0e1",
   "metadata": {},
   "outputs": [
    {
     "name": "stdout",
     "output_type": "stream",
     "text": [
      "{'a': 'd', 'b': 'c', 'c': 'b', 'd': 'a'}\n"
     ]
    },
    {
     "data": {
      "text/plain": [
       "({'a': 'd', 'b': 'c', 'c': 'b', 'd': 'a'}, 'adc')"
      ]
     },
     "execution_count": 91,
     "metadata": {},
     "output_type": "execute_result"
    }
   ],
   "source": [
    "cipher(\"abcd\", \"dcba\", \"dab\")"
   ]
  },
  {
   "cell_type": "code",
   "execution_count": 89,
   "id": "e9b2b6f8",
   "metadata": {},
   "outputs": [
    {
     "name": "stdout",
     "output_type": "stream",
     "text": [
      "{'a': 'd', 'b': 'c', 'c': 'b', 'd': 'a'}\n",
      "{'a': 'd', 'b': 'c', 'c': 'b', 'd': 'a'} adc\n"
     ]
    }
   ],
   "source": [
    "code='dab'\n",
    "dict_=dict()\n",
    "\n",
    "map_from=\"abcd\"\n",
    "map_to=\"dcba\"\n",
    "\n",
    "for i, j in zip(map_from, map_to):\n",
    "    dict_[i]=j\n",
    "\n",
    "print(dict_)\n",
    "\n",
    "#decode\n",
    "decoded=''\n",
    "for letter in code:\n",
    "    decoded+=(dict_[letter])\n",
    "decoded\n",
    "\n",
    "print(dict_, decoded)"
   ]
  },
  {
   "cell_type": "code",
   "execution_count": null,
   "id": "54c96a5c",
   "metadata": {},
   "outputs": [],
   "source": []
  },
  {
   "cell_type": "code",
   "execution_count": null,
   "id": "f7faf95b",
   "metadata": {},
   "outputs": [],
   "source": []
  },
  {
   "cell_type": "code",
   "execution_count": null,
   "id": "f290b12c",
   "metadata": {},
   "outputs": [],
   "source": []
  },
  {
   "cell_type": "code",
   "execution_count": 105,
   "id": "7899b1ac",
   "metadata": {},
   "outputs": [],
   "source": [
    "## DO NOT MODIFY THE IMPLEMENTATION OF THE Person CLASS ##\n",
    "class Person(object):\n",
    "    def __init__(self, name):\n",
    "        #create a person with name name\n",
    "        self.name = name\n",
    "        try:\n",
    "            firstBlank = name.rindex(' ')\n",
    "            self.lastName = name[firstBlank+1:]\n",
    "        except:\n",
    "            self.lastName = name\n",
    "        self.age = None\n",
    "    def getLastName(self):\n",
    "        #return self's last name\n",
    "        return self.lastName\n",
    "    def setAge(self, age):\n",
    "        #assumes age is an int greater than 0\n",
    "        #sets self's age to age (in years)\n",
    "        self.age = age\n",
    "    def getAge(self):\n",
    "        #assumes that self's age has been set\n",
    "        #returns self's current age in years\n",
    "        if self.age == None:\n",
    "            raise ValueError\n",
    "        return self.age\n",
    "    def __lt__(self, other):\n",
    "        #return True if self's name is lexicographically less\n",
    "        #than other's name, and False otherwise\n",
    "        if self.lastName == other.lastName:\n",
    "            return self.name < other.name\n",
    "        return self.lastName < other.lastName\n",
    "    def __str__(self):\n",
    "        #return self's name\n",
    "        return self.name\n",
    "        \n",
    "class USResident(Person):\n",
    "    \"\"\" \n",
    "    A Person who resides in the US.\n",
    "    \"\"\"\n",
    "    def __init__(self, name, status):\n",
    "        \"\"\" \n",
    "        Initializes a Person object. A USResident object inherits \n",
    "        from Person and has one additional attribute:\n",
    "        status: a string, one of \"citizen\", \"legal_resident\", \"illegal_resident\"\n",
    "        Raises a ValueError if status is not one of those 3 strings\n",
    "        \"\"\"\n",
    "        Person.__init__(self,name)\n",
    "        self.status = status\n",
    "        if self.status not in ('citizen','legal_resident','illegal_resident'):\n",
    "            raise ValueError\n",
    "        \n",
    "    def getStatus(self):\n",
    "        \"\"\"\n",
    "        Returns the status\n",
    "        \"\"\"\n",
    "        return self.status"
   ]
  },
  {
   "cell_type": "code",
   "execution_count": 106,
   "id": "842b1d05",
   "metadata": {},
   "outputs": [
    {
     "name": "stdout",
     "output_type": "stream",
     "text": [
      "citizen\n"
     ]
    },
    {
     "ename": "ValueError",
     "evalue": "",
     "output_type": "error",
     "traceback": [
      "\u001b[0;31m---------------------------------------------------------------------------\u001b[0m",
      "\u001b[0;31mValueError\u001b[0m                                Traceback (most recent call last)",
      "\u001b[0;32m<ipython-input-106-182f6309e5f2>\u001b[0m in \u001b[0;36m<module>\u001b[0;34m\u001b[0m\n\u001b[1;32m      1\u001b[0m \u001b[0ma\u001b[0m \u001b[0;34m=\u001b[0m \u001b[0mUSResident\u001b[0m\u001b[0;34m(\u001b[0m\u001b[0;34m'Tim Beaver'\u001b[0m\u001b[0;34m,\u001b[0m \u001b[0;34m'citizen'\u001b[0m\u001b[0;34m)\u001b[0m\u001b[0;34m\u001b[0m\u001b[0;34m\u001b[0m\u001b[0m\n\u001b[1;32m      2\u001b[0m \u001b[0mprint\u001b[0m\u001b[0;34m(\u001b[0m\u001b[0ma\u001b[0m\u001b[0;34m.\u001b[0m\u001b[0mgetStatus\u001b[0m\u001b[0;34m(\u001b[0m\u001b[0;34m)\u001b[0m\u001b[0;34m)\u001b[0m\u001b[0;34m\u001b[0m\u001b[0;34m\u001b[0m\u001b[0m\n\u001b[0;32m----> 3\u001b[0;31m \u001b[0mb\u001b[0m \u001b[0;34m=\u001b[0m \u001b[0mUSResident\u001b[0m\u001b[0;34m(\u001b[0m\u001b[0;34m'Tim Horton'\u001b[0m\u001b[0;34m,\u001b[0m \u001b[0;34m'non-resident'\u001b[0m\u001b[0;34m)\u001b[0m\u001b[0;34m\u001b[0m\u001b[0;34m\u001b[0m\u001b[0m\n\u001b[0m",
      "\u001b[0;32m<ipython-input-105-5c63ef770c7e>\u001b[0m in \u001b[0;36m__init__\u001b[0;34m(self, name, status)\u001b[0m\n\u001b[1;32m     48\u001b[0m         \u001b[0mself\u001b[0m\u001b[0;34m.\u001b[0m\u001b[0mstatus\u001b[0m \u001b[0;34m=\u001b[0m \u001b[0mstatus\u001b[0m\u001b[0;34m\u001b[0m\u001b[0;34m\u001b[0m\u001b[0m\n\u001b[1;32m     49\u001b[0m         \u001b[0;32mif\u001b[0m \u001b[0mself\u001b[0m\u001b[0;34m.\u001b[0m\u001b[0mstatus\u001b[0m \u001b[0;32mnot\u001b[0m \u001b[0;32min\u001b[0m \u001b[0;34m(\u001b[0m\u001b[0;34m'citizen'\u001b[0m\u001b[0;34m,\u001b[0m\u001b[0;34m'legal_resident'\u001b[0m\u001b[0;34m,\u001b[0m\u001b[0;34m'illegal_resident'\u001b[0m\u001b[0;34m)\u001b[0m\u001b[0;34m:\u001b[0m\u001b[0;34m\u001b[0m\u001b[0;34m\u001b[0m\u001b[0m\n\u001b[0;32m---> 50\u001b[0;31m             \u001b[0;32mraise\u001b[0m \u001b[0mValueError\u001b[0m\u001b[0;34m\u001b[0m\u001b[0;34m\u001b[0m\u001b[0m\n\u001b[0m\u001b[1;32m     51\u001b[0m \u001b[0;34m\u001b[0m\u001b[0m\n\u001b[1;32m     52\u001b[0m     \u001b[0;32mdef\u001b[0m \u001b[0mgetStatus\u001b[0m\u001b[0;34m(\u001b[0m\u001b[0mself\u001b[0m\u001b[0;34m)\u001b[0m\u001b[0;34m:\u001b[0m\u001b[0;34m\u001b[0m\u001b[0;34m\u001b[0m\u001b[0m\n",
      "\u001b[0;31mValueError\u001b[0m: "
     ]
    }
   ],
   "source": [
    "a = USResident('Tim Beaver', 'citizen')\n",
    "print(a.getStatus())\n",
    "b = USResident('Tim Horton', 'non-resident')"
   ]
  },
  {
   "cell_type": "code",
   "execution_count": null,
   "id": "a8fdbc8c",
   "metadata": {},
   "outputs": [],
   "source": []
  },
  {
   "cell_type": "code",
   "execution_count": null,
   "id": "ac5eab77",
   "metadata": {},
   "outputs": [],
   "source": []
  },
  {
   "cell_type": "code",
   "execution_count": 107,
   "id": "c1bb7520",
   "metadata": {},
   "outputs": [],
   "source": [
    "class Container(object):\n",
    "    \"\"\" Holds hashable objects. Objects may occur 0 or more times \"\"\"\n",
    "    def __init__(self):\n",
    "        \"\"\" Creates a new container with no objects in it. I.e., any object \n",
    "            occurs 0 times in self. \"\"\"\n",
    "        self.vals = {}\n",
    "    def insert(self, e):\n",
    "        \"\"\" assumes e is hashable\n",
    "            Increases the number times e occurs in self by 1. \"\"\"\n",
    "        try:\n",
    "            self.vals[e] += 1\n",
    "        except:\n",
    "            self.vals[e] = 1\n",
    "    def __str__(self):\n",
    "        s = \"\"\n",
    "        for i in sorted(self.vals.keys()):\n",
    "            if self.vals[i] != 0:\n",
    "                s += str(i)+\":\"+str(self.vals[i])+\"\\n\"\n",
    "        return s"
   ]
  },
  {
   "cell_type": "code",
   "execution_count": 111,
   "id": "c1f74b68",
   "metadata": {},
   "outputs": [],
   "source": [
    "class ASet(Container):\n",
    "    def remove(self, e):\n",
    "        \"\"\"assumes e is hashable\n",
    "           removes e from self\"\"\"\n",
    "        try:\n",
    "            del self.vals[e]\n",
    "        except:\n",
    "            pass\n",
    "\n",
    "    def is_in(self, e):\n",
    "        \"\"\"assumes e is hashable\n",
    "           returns True if e has been inserted in self and\n",
    "           not subsequently removed, and False otherwise.\"\"\"\n",
    "        if e in self.vals.keys():\n",
    "            return True\n",
    "        else:\n",
    "            return False"
   ]
  },
  {
   "cell_type": "markdown",
   "id": "5effc52e",
   "metadata": {},
   "source": [
    "For example,\n",
    "d1 = ASet()\n",
    "d1.insert(4)\n",
    "d1.insert(4)\n",
    "\n",
    "d1.remove(2)\n",
    "print(d1)\n",
    "\n",
    "d1.remove(4)\n",
    "print(d1)\n",
    "prints\n",
    "4:2 # from d1.remove(2) print\n",
    "\n",
    "    # (empty) from d1.remove(4) print\n",
    "For example,\n",
    "d1 = ASet()\n",
    "d1.insert(4)\n",
    "print(d1.is_in(4))\n",
    "d1.insert(5)\n",
    "print(d1.is_in(5))\n",
    "d1.remove(5)\n",
    "print(d1.is_in(5))\n",
    "prints\n",
    "True\n",
    "True\n",
    "False"
   ]
  },
  {
   "cell_type": "code",
   "execution_count": 112,
   "id": "2399444b",
   "metadata": {},
   "outputs": [
    {
     "name": "stdout",
     "output_type": "stream",
     "text": [
      "4:2\n",
      "\n",
      "\n"
     ]
    }
   ],
   "source": [
    "d1 = ASet()\n",
    "d1.insert(4)\n",
    "d1.insert(4)\n",
    "\n",
    "d1.remove(2)\n",
    "print(d1)\n",
    "\n",
    "d1.remove(4)\n",
    "print(d1)"
   ]
  },
  {
   "cell_type": "code",
   "execution_count": 113,
   "id": "55f3a80d",
   "metadata": {},
   "outputs": [
    {
     "name": "stdout",
     "output_type": "stream",
     "text": [
      "True\n",
      "True\n",
      "False\n"
     ]
    }
   ],
   "source": [
    "d1 = ASet()\n",
    "d1.insert(4)\n",
    "print(d1.is_in(4))\n",
    "d1.insert(5)\n",
    "print(d1.is_in(5))\n",
    "d1.remove(5)\n",
    "print(d1.is_in(5))"
   ]
  },
  {
   "cell_type": "code",
   "execution_count": null,
   "id": "7f803b21",
   "metadata": {},
   "outputs": [],
   "source": []
  }
 ],
 "metadata": {
  "kernelspec": {
   "display_name": "Python 3",
   "language": "python",
   "name": "python3"
  },
  "language_info": {
   "codemirror_mode": {
    "name": "ipython",
    "version": 3
   },
   "file_extension": ".py",
   "mimetype": "text/x-python",
   "name": "python",
   "nbconvert_exporter": "python",
   "pygments_lexer": "ipython3",
   "version": "3.6.8"
  }
 },
 "nbformat": 4,
 "nbformat_minor": 5
}
